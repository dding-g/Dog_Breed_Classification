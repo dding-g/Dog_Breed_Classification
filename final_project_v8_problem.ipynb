{
  "nbformat": 4,
  "nbformat_minor": 0,
  "metadata": {
    "kernelspec": {
      "display_name": "Python 3",
      "language": "python",
      "name": "python3"
    },
    "language_info": {
      "codemirror_mode": {
        "name": "ipython",
        "version": 3
      },
      "file_extension": ".py",
      "mimetype": "text/x-python",
      "name": "python",
      "nbconvert_exporter": "python",
      "pygments_lexer": "ipython3",
      "version": "3.8.3"
    },
    "colab": {
      "name": "final_project_v8_problem.ipynb",
      "provenance": [],
      "collapsed_sections": [],
      "include_colab_link": true
    },
    "accelerator": "GPU"
  },
  "cells": [
    {
      "cell_type": "markdown",
      "metadata": {
        "id": "view-in-github",
        "colab_type": "text"
      },
      "source": [
        "<a href=\"https://colab.research.google.com/github/dding-g/Dog_Breed_Classification/blob/master/final_project_v8_problem.ipynb\" target=\"_parent\"><img src=\"https://colab.research.google.com/assets/colab-badge.svg\" alt=\"Open In Colab\"/></a>"
      ]
    },
    {
      "cell_type": "markdown",
      "metadata": {
        "id": "ld6AGwRdpv5B",
        "colab_type": "text"
      },
      "source": [
        "# 서약\n",
        "* 당연한 것을 아래와 같이 한번 다지고 가도록 하겠습니다. 아래 보고서는 **본인의 힘만으로 작성**해야하며, 다른 수강생에게 직접적인 질문, 복사 하는 행위는 모두 금지합니다 \n",
        "  * 예를 들어서, 본 프로젝트의 코드 셀을 완성하는데 직접적인 질문 또는 복사하는 경우는 모두 금지합니다\n",
        "  * 수업에서 제공한 코드, 노트북은 모두 재활용가능하며, 카피로 규정하지 않습니다\n",
        "  * 수업 자료 이외에 참고자료가 있다면, 출처와 사용 부분에 모두 표시해하는 경우는 모두 합당한 자료로 인정하겠습니다\n",
        "  \n",
        "* 위에 대해서 모두 이해하고 동의했다면, 아래 `서약글`에 다음을 작성해주세요:\n",
        "\n",
        "\"본인은 위 서약글을 이해하고 동의하며, 프로젝트를 수행하는데 있어서 반칙을 할 경우 (제공자 포함) 본 프로젝트에 대한 점수가 반영되지 않는다는 것에 동의 합니다.\""
      ]
    },
    {
      "cell_type": "markdown",
      "metadata": {
        "id": "pxBqRt9Apv5C",
        "colab_type": "text"
      },
      "source": [
        "**서약서**\n",
        "\n",
        "이름: 조명근\n",
        "\n",
        "학번: 20155165\n",
        "\n",
        "서약글:  본인은 위 서약글을 이해하고 동의하며, 프로젝트를 수행하는데 있어서 반칙을 할 경우 (제공자 포함) 본 프로젝트에 대한 점수가 반영되지 않는다는 것에 동의 합니다."
      ]
    },
    {
      "cell_type": "markdown",
      "metadata": {
        "id": "iy5za_3-pv5C",
        "colab_type": "text"
      },
      "source": [
        "# Final Project \n",
        "\n",
        "## Project: 강아지 품종을 분류하는 앱 제작\n",
        "\n",
        "## Due date: 6월 22일\n",
        "\n",
        "---\n",
        "\n",
        "* 프로젝트를 수행하는데 있어서, 본 설명서를 자세하게 읽고, 요구하는 바를 충실하게 수행하시기 바랍니다\n",
        "* 본 notebook에서는 부분적으로 코드와 설명이 들어 있습니다\n",
        "* 아래 여러 셀에서 코드를 완성하는 부분을 수행하고, 설명을 요구하는 부분은 markdown으로 설명을 최대한 자세하게 적어주세요. 기준은 본인이 이해하고 있다는 것을 표현할 수 있는 부분을 모두 적으시면 됩니다.\n",
        "  * 답을 작성하는 원칙은 **보고서**를 작성한다고 생각하시면 됩니다\n",
        "  * 내가 알고 있는 부분을 충실하게 **글로 표현** 하는 것 또한 중요한 연습입니다 \n",
        "  * 코드 작성은 **주석**으로 설명하시기 바랍니다\n",
        "  \n",
        "* 설명서에서 **'[답 작성]'** 라는 테그가 붙어 있는 부분은 모두 코드 작성을 요구하는 부분입니다\n",
        "* 각 작성을 요구하는 부분에 대해서 설명을 자세하게 읽고 답변하시기 바랍니다.\n",
        "\n",
        "\n",
        "\n",
        "> **제출방법**: \n",
        "모든 작성을 완료한 이후에는 다음 두가지를 제출합니다:\n",
        "\n",
        "1. 본 notebook을 최종 실행하여, 모든 셀의 결과가 표출된 형태로 `html`또는 `pdf` 파일로 저장하여 제출 (html, pdf 파일 저장은 아래의 부록 3에 설명되어 있습니다.)\n",
        "2. 완성된 notebook과 제공되지 않은 (새로 만들거나 사용한) 모든 자료를 압축하여 압축파일로 제출\n",
        "\n",
        "* 본 보고서에서는 코드 작성이외에도, 각 코드를 작성하는 방법론과 설명을 작성해야하는 **서술형 문제**도 포함되어 있습니다.\n",
        "* 서술형 문제는 채점하는 중요한 기준이 됩니다. 성실하게 작성해주세요.\n",
        "* 서술형 문제에 대한 답변은 'markdown' 형태로 셀에 포함하여 작성하면 됩니다. \n",
        "* Markdown 셀의 경우는 더블클릭으로 편집 할 수 있습니다\n",
        "\n",
        "\n",
        "\n",
        "\n",
        "---\n",
        "### 목표: 앱을 위한 인공지능 알고리즘 개발~\n",
        "\n",
        "* 본 보고서에서는 모바일/웹앱을 위한 인공지능 알고리즘을 개발하라는 업무를 부여받았다고 가정합니다\n",
        "* 프로젝트가 완성본은, 사용자가 제공하는 image를 받아서:\n",
        "1. 만약 image속에 개가 감지된다면, 프로그램은 개의 종(種)을 예측합니다\n",
        "2. 만약 사람의 image가 감지된다면, 프로그램은 그 사람과 가장 비슷하다고 생각하는 개의 종을 알려줍니다 \n",
        "3. 아래는 사진을 받았을 때에 프로그램 출력 예제입니다:\n",
        "\n",
        "![Sample Dog Output](https://drive.google.com/uc?export=view&id=1AjaH0XW1UtCTnqdWCDKZU2lg_ANIeQT7)\n",
        "\n",
        "위의 과제를 수행하기 위해서는 한개의 machine learning 모델로 구현하기 어렵습니다. \n",
        "아래 여러 단계적으로 구성을하여 완성하도록 합니다:\n",
        "\n",
        "### 프로젝트 완성하기 위한 단계\n",
        "\n",
        "아래 여러 단계로 진행합니다:\n",
        "\n",
        "* [Step 0](#step0): Dataset 준비하기\n",
        "* [Step 1](#step1): Detect Humans (human image 탐지)\n",
        "* [Step 2](#step2): Detect Dogs (dog image 탐지)\n",
        "* [Step 3](#step3): Create a CNN to Classify Dog Breeds (dog 종 예측 프로그램)\n",
        "* [Step 4](#step4): Create a CNN to Classify Dog Breeds (dog 종 예측 프로그램 2)\n",
        "* [Step 5](#step5): Make Dog Identification App\n",
        "* [Step 6](#step6): Test Dog Identification App"
      ]
    },
    {
      "cell_type": "code",
      "metadata": {
        "id": "dcOXX68wpv5D",
        "colab_type": "code",
        "colab": {}
      },
      "source": [
        "import numpy as np\n",
        "from glob import glob\n",
        "import random\n",
        "import cv2                \n",
        "import os\n",
        "from pathlib import Path\n",
        "from tqdm import tqdm\n",
        "import torchvision\n",
        "from torchvision import datasets\n",
        "import torch\n",
        "from torch.utils.data.sampler import SubsetRandomSampler\n",
        "import torchvision.models as models\n",
        "import torchvision.transforms as transforms\n",
        "from torch.autograd import Variable\n",
        "import torch.nn as nn\n",
        "import torch.nn.functional as F\n",
        "import torch.optim as optimizer\n",
        "from PIL import ImageFile\n",
        "from PIL import Image\n",
        "import IPython\n",
        "import matplotlib.pyplot as plt\n",
        "%matplotlib inline\n",
        "%config InlineBackend.figure_format = 'retina'"
      ],
      "execution_count": 9,
      "outputs": []
    },
    {
      "cell_type": "markdown",
      "metadata": {
        "id": "ri0drixxpv5F",
        "colab_type": "text"
      },
      "source": [
        "---\n",
        "<a id='step0'></a>\n",
        "## Step 0: Dataset 준비하기\n",
        "\n",
        "\n",
        "1. 아래 코드 셀은 google drive를 통해서 final project의 data를 받습니다.\n",
        "2. __haarcascades 폴더__는 이후 Step 1의 Detect Humans 부분에서 OpenCV에서 제공하는 얼굴인식 알고리즘파일이 존재하는 폴더입니다. \n",
        "3. __images 폴더__는 dataset인 human과 dog dataset으로 구성되어 있으며 해당 dataset이 존재하는 폴더입니다.\n",
        "4. __models 폴더__는 학습된 모델을 저장하기 위한 폴더 입니다.\n",
        "5. __myImg 폴더__는 만들어진 App을 테스트 할때 사용할 이미지를 넣는 폴더입니다.\n",
        "6. 코드 셀을 통해 다운로드가 정상적으로 되지 않을 경우 아래 링크에서 직접 다운로드 받을 수 있습니다\n",
        "\n",
        "\n",
        "- Download the [final project data](https://drive.google.com/file/d/1vU_kIUMRIKg58HvZkPT367BMWPa5pWFH/view?usp=sharing).  프로젝트 notebook이 들어있는 경로에 `/haarcascades`, `/images`, `models`, `myImg` 폴더를 압축 풀기\n",
        "\n",
        "* 아래 셀을 실행해서 dataset을 준비합니다."
      ]
    },
    {
      "cell_type": "code",
      "metadata": {
        "id": "hHWQImsmpv5G",
        "colab_type": "code",
        "colab": {
          "base_uri": "https://localhost:8080/",
          "height": 35
        },
        "outputId": "9c85360b-6595-4405-c867-469dff7ee7af"
      },
      "source": [
        "# 해당 모듈이 필요합니다! 셀을 실행하여 설치하세요.\n",
        "!pip install googledrivedownloader"
      ],
      "execution_count": 2,
      "outputs": [
        {
          "output_type": "stream",
          "text": [
            "Requirement already satisfied: googledrivedownloader in /usr/local/lib/python3.6/dist-packages (0.4)\n"
          ],
          "name": "stdout"
        }
      ]
    },
    {
      "cell_type": "code",
      "metadata": {
        "id": "vhkU8aufpv5I",
        "colab_type": "code",
        "colab": {
          "base_uri": "https://localhost:8080/",
          "height": 35
        },
        "outputId": "23e5c6c4-2307-4667-9577-eab7e02c1169"
      },
      "source": [
        "import os\n",
        "from zipfile import ZipFile\n",
        "from google_drive_downloader import GoogleDriveDownloader as gdd\n",
        "\n",
        "\n",
        "gdd.download_file_from_google_drive(file_id='1f2Q4tI9kiSLJ_1fdGs6b-eGcI9Zoh_VP', dest_path='./final_project_data.zip')\n",
        "with ZipFile('./final_project_data.zip', 'r') as f:\n",
        "    f.extractall()\n",
        "os.remove('./final_project_data.zip')"
      ],
      "execution_count": 3,
      "outputs": [
        {
          "output_type": "stream",
          "text": [
            "Downloading 1f2Q4tI9kiSLJ_1fdGs6b-eGcI9Zoh_VP into ./final_project_data.zip... Done.\n"
          ],
          "name": "stdout"
        }
      ]
    },
    {
      "cell_type": "markdown",
      "metadata": {
        "id": "cUMCBw4jpv5K",
        "colab_type": "text"
      },
      "source": [
        "아래 셀을 실행하여, dataset이 잘 준비되었는지 확인합니다:\n",
        "```\n",
        "총 13233 개의 human images가 있습니다.\n",
        "총 8351 개의 dog images가 있습니다. \n",
        "```"
      ]
    },
    {
      "cell_type": "code",
      "metadata": {
        "id": "HuMrebQApv5K",
        "colab_type": "code",
        "colab": {
          "base_uri": "https://localhost:8080/",
          "height": 53
        },
        "outputId": "8cf6e58e-fc15-454b-b6f0-b99cc5f41ae3"
      },
      "source": [
        "import random\n",
        "import numpy as np\n",
        "from glob import glob\n",
        "\n",
        "# load filenames for human and dog images\n",
        "human_files = np.array(glob(\"images/lfw/*/*\"))\n",
        "dog_files = np.array(glob(\"images/dogImages/*/*/*\"))\n",
        "\n",
        "random.shuffle(human_files)\n",
        "random.shuffle(dog_files)\n",
        "\n",
        "# print number of images in each dataset\n",
        "print('총 %d 개의 human images가 있습니다.' % len(human_files))\n",
        "print('총 %d 개의 dog images가 있습니다.' % len(dog_files))\n"
      ],
      "execution_count": 4,
      "outputs": [
        {
          "output_type": "stream",
          "text": [
            "총 13233 개의 human images가 있습니다.\n",
            "총 8351 개의 dog images가 있습니다.\n"
          ],
          "name": "stdout"
        }
      ]
    },
    {
      "cell_type": "markdown",
      "metadata": {
        "id": "V6BL2FGTpv5M",
        "colab_type": "text"
      },
      "source": [
        "'human_files'와 'dog_files'를 확인하세요"
      ]
    },
    {
      "cell_type": "code",
      "metadata": {
        "id": "V5VqYAYepv5M",
        "colab_type": "code",
        "colab": {
          "base_uri": "https://localhost:8080/",
          "height": 125
        },
        "outputId": "308b6198-c9c1-4011-f4a6-a51f529152aa"
      },
      "source": [
        "human_files"
      ],
      "execution_count": 5,
      "outputs": [
        {
          "output_type": "execute_result",
          "data": {
            "text/plain": [
              "array(['images/lfw/Jose_Manuel_Durao_Barroso/Jose_Manuel_Durao_Barroso_0006.jpg',\n",
              "       'images/lfw/Jason_Priestley/Jason_Priestley_0001.jpg',\n",
              "       'images/lfw/Tony_Blair/Tony_Blair_0107.jpg', ...,\n",
              "       'images/lfw/Ben_Glisan/Ben_Glisan_0001.jpg',\n",
              "       'images/lfw/John_Ashcroft/John_Ashcroft_0023.jpg',\n",
              "       'images/lfw/Patrick_Roy/Patrick_Roy_0001.jpg'], dtype='<U91')"
            ]
          },
          "metadata": {
            "tags": []
          },
          "execution_count": 5
        }
      ]
    },
    {
      "cell_type": "markdown",
      "metadata": {
        "id": "b_Oe4RPypv5O",
        "colab_type": "text"
      },
      "source": [
        "<a id='step1'></a>\n",
        "## Step 1: Detect Humans\n",
        "\n",
        "* 본 step 1에서는, openCV에서 제공하는 [Haar feature-based cascade classifiers](http://docs.opencv.org/trunk/d7/d8b/tutorial_py_face_detection.html)을 이용하여 사람의 얼굴을 인식하는 프로그램을 작성합니다\n",
        "\n",
        "* OpenCV는 다양한 image processing tool을 제공하는 python package 입니다. \n",
        "* 우리가 활용할 얼굴인식 알고리즘은 XML 파일로 저장되어 있으며, [github](https://github.com/opencv/opencv/tree/master/data/haarcascades)에서 다운 받을 수 있지만, 편의를 위해서 해당 XML 파일은 위의 Step 0: Dateset 준비하기 에서 다운로드 하였습니다.\n"
      ]
    },
    {
      "cell_type": "code",
      "metadata": {
        "id": "FkKfGQM-pv5P",
        "colab_type": "code",
        "colab": {
          "base_uri": "https://localhost:8080/",
          "height": 286
        },
        "outputId": "1b926253-74d5-41ed-d4e7-85e29ca5c76a"
      },
      "source": [
        "import cv2\n",
        "import matplotlib.pyplot as plt\n",
        "%matplotlib inline\n",
        "\n",
        "# image에서 얼굴 detection 하는 XML 파일 적용\n",
        "face_cascade = cv2.CascadeClassifier('haarcascades/haarcascade_frontalface_alt.xml')\n",
        "\n",
        "# 색 (BGR) image 읽기 (경로를 받아서 image 읽기)\n",
        "img = cv2.imread(human_files[0])\n",
        "# BGR image 흑백 전환 (openCV haarcascade 적용을 위한 흑백 전환)\n",
        "gray = cv2.cvtColor(img, cv2.COLOR_BGR2GRAY)\n",
        "\n",
        "# 읽은 흑백 image에 얼굴탐지 알고리즘 적용\n",
        "faces = face_cascade.detectMultiScale(gray)\n",
        "\n",
        "# image에서 인식한 얼굴의 수를 확인\n",
        "print('Number of faces detected:', len(faces))\n",
        "\n",
        "# 인식한 얼굴에 사각 영역 표시하기\n",
        "for (x,y,w,h) in faces:\n",
        "    # add bounding box to color image\n",
        "    cv2.rectangle(img,(x,y),(x+w,y+h),(255,0,0),2)\n",
        "    \n",
        "# 표출을 위해서 BGR image를 RGB로 전환하기\n",
        "cv_rgb = cv2.cvtColor(img, cv2.COLOR_BGR2RGB)\n",
        "\n",
        "# display the image, along with bounding box\n",
        "plt.imshow(cv_rgb)\n",
        "plt.show()"
      ],
      "execution_count": 6,
      "outputs": [
        {
          "output_type": "stream",
          "text": [
            "Number of faces detected: 1\n"
          ],
          "name": "stdout"
        },
        {
          "output_type": "display_data",
          "data": {
            "image/png": "[encoded data removed]",
            "text/plain": [
              "<Figure size 432x288 with 1 Axes>"
            ]
          },
          "metadata": {
            "tags": [],
            "image/png": {
              "width": 258,
              "height": 251
            },
            "needs_background": "light"
          }
        }
      ]
    },
    {
      "cell_type": "markdown",
      "metadata": {
        "id": "mBFVzU1Apv5R",
        "colab_type": "text"
      },
      "source": [
        "\n",
        "* 일반적으로 얼굴인식 알고리즘은 흑백으로 image를 전환하여 수행합니다\n",
        "* `detectMultiScale`함수는 `face_cascade`으로 받아온 얼굴인식 프로그램을 실행하며, 흑백 이미지를 input으로 받습니다\n",
        "\n",
        "* 위에서 `faces`는 인식한 얼굴을 기록한 numpy array입니다\n",
        "  * numpy array의 row는 각 인식한 얼굴의 좌표를 저장합니다\n",
        "  * 첫 2개 좌표는 (위에서 `x`와 `y`로 받은) 인식한 얼굴의 왼쪽 위 꼭지점의 좌표를\n",
        "  * 뒤 2개 좌표는 (위에서 `w`와 `h`로 받은) 인식한 얼굴의 넓이와 높이를 말해줍니다 (pixel 수)\n",
        "  \n",
        "  \n",
        "## **[문제 1]** 얼굴 인식 모듈\n",
        "\n",
        "위에서 사용된 코드로 직접 얼굴 인식 모듈을 구현하세요.\n",
        "\n",
        "* function name : `face_detector`\n",
        "  * input: `img_path`\n",
        "    * `img_path` : image가 저장되어 있는 경로 string\n",
        "  * output: `boolean`\n",
        "    * 사람 얼굴이 인식되었으면 `True` \n",
        "    * 사람 얼굴이 인식되지 않았으면 `False` \n",
        "    * [힌트] `face_cascade`의 결과 값의 길이가 0보다 큰지 확인하는 함수 작성\n"
      ]
    },
    {
      "cell_type": "markdown",
      "metadata": {
        "id": "-xqqMC9gEfgl",
        "colab_type": "text"
      },
      "source": [
        "**[답 작성]**"
      ]
    },
    {
      "cell_type": "code",
      "metadata": {
        "id": "jiQEVZpApv5R",
        "colab_type": "code",
        "colab": {}
      },
      "source": [
        "# 문제 1 답 작성\n",
        "def face_detector(img_path):\n",
        "    ### 답 작성 부분 ###\n",
        "\n",
        "    # image에서 얼굴 detection 하는 XML 파일 적용\n",
        "    face_cascade = cv2.CascadeClassifier('haarcascades/haarcascade_frontalface_alt.xml')\n",
        "    # 색 (BGR) image 읽기 (경로를 받아서 image 읽기)\n",
        "    img = cv2.imread(img_path)\n",
        "    # BGR image 흑백 전환 (openCV haarcascade 적용을 위한 흑백 전환)\n",
        "    gray = cv2.cvtColor(img, cv2.COLOR_BGR2GRAY)\n",
        "    # 읽은 흑백 image에 얼굴탐지 알고리즘 적용\n",
        "    faces = face_cascade.detectMultiScale(gray)  \n",
        "\n",
        "    # 인식한 얼굴의 갯수가 0보다 크면 사람인식 : True\n",
        "    # 아니면 사람 인식 X : False\n",
        "    return True if len(faces) > 0 else False"
      ],
      "execution_count": 7,
      "outputs": []
    },
    {
      "cell_type": "markdown",
      "metadata": {
        "id": "IlHZ9JFHpv5T",
        "colab_type": "text"
      },
      "source": [
        "### 얼굴 인식 모듈 성능평가\n",
        "\n",
        "아래 코드 셀에 위에서 작성한 `face_detector` 함수의 성능을 확인해보세요 (결과는 아래 코드에서 출력합니다).\n",
        "\n",
        "1. 100개의 `human_files` image 중에서 사람얼굴을 인식한 경우는 몇% 인가요? \n",
        "2. 100개의 `dog_files` image 중에서 (잘못하여) 사람얼굴을 인식한 경우는 몇% 인가요?\n",
        "\n",
        "물론 이상적으로는 human images에 대해서는 100% 와 dog images는 0%의 사람얼굴 인식 의 결과가 나와야 하지만, 본 알고리즘은 완벽하지 않다는 것을 확인할 수 있습니다.\n",
        "\n",
        "아래 셀에서 각 항목별로 100개의 image를 추출하여 `human_files_short`와 `dog_files_short`로 준비하였습니다"
      ]
    },
    {
      "cell_type": "code",
      "metadata": {
        "id": "x5noyqGcpv5T",
        "colab_type": "code",
        "colab": {
          "base_uri": "https://localhost:8080/",
          "height": 53
        },
        "outputId": "30e80f21-00b4-4ae9-e681-b7fc4c3a3cd5"
      },
      "source": [
        "human_files_short = human_files[:100]\n",
        "dog_files_short = dog_files[:100]\n",
        "\n",
        "## human_files_short와 dog_files_short에 face_detector algorithm의 성능을 확인하세요\n",
        "human_file = [face_detector(file) for file in human_files_short]\n",
        "dog_file = [face_detector(file) for file in dog_files_short]\n",
        "\n",
        "human_percentage = human_file.count(True) / len(human_file) * 100\n",
        "human_in_dog_percentange = dog_file.count(True) / len(dog_file) * 100\n",
        "\n",
        "##################################################\n",
        "\n",
        "print(\"human file에 대한 사람 얼굴인식률: {}%\".format(human_percentage))\n",
        "print(\"dog file에 대한 사람 얼굴 인식률: {}%\".format(human_in_dog_percentange))"
      ],
      "execution_count": 8,
      "outputs": [
        {
          "output_type": "stream",
          "text": [
            "human file에 대한 사람 얼굴인식률: 99.0%\n",
            "dog file에 대한 사람 얼굴 인식률: 10.0%\n"
          ],
          "name": "stdout"
        }
      ]
    },
    {
      "cell_type": "markdown",
      "metadata": {
        "id": "nWUGp9l6pv5V",
        "colab_type": "text"
      },
      "source": [
        "---\n",
        "<a id='step2'></a>\n",
        "## Step 2: Detect Dogs\n",
        "\n",
        "위에서 사람 얼굴 인식 모듈은 OpenCV를 통해서 구현했습니다.\n",
        "이번에는 dog detection 관련 모듈을 pytorch에서 [pre-trained model](http://pytorch.org/docs/master/torchvision/models.html)가져와서 구현하도록 합니다. Imagenet을 위한 구현 모델은 1000개의 class 분류를 하는데 있어서 dog의 종의 분류하는 class가 여러개 포함되어 있습니다!\n",
        "\n",
        "### Pre-trained VGG-16 Model 불러오기\n",
        "\n",
        "* 아래 코드는 [ImageNet](http://www.image-net.org/)의 방대한 자료를 통해서 미리 학습된 VGG-16 model 모델을 가져옵니다\n",
        "* ImageNet에서 분류하는 [1000 categories](https://gist.github.com/yrevar/942d3a0ac09ec9e5eb3a)를 링크에서 확인해보세요  "
      ]
    },
    {
      "cell_type": "code",
      "metadata": {
        "id": "cDpOYq0epv5V",
        "colab_type": "code",
        "colab": {}
      },
      "source": [
        "# define VGG16 model\n",
        "VGG16 = models.vgg16(pretrained=True)\n",
        "\n",
        "# check if CUDA is available\n",
        "use_cuda = torch.cuda.is_available()\n",
        "\n",
        "# move model to GPU if CUDA is available\n",
        "if use_cuda:\n",
        "    VGG16 = VGG16.cuda()"
      ],
      "execution_count": 10,
      "outputs": []
    },
    {
      "cell_type": "markdown",
      "metadata": {
        "id": "2m4QOjy9xYJH",
        "colab_type": "text"
      },
      "source": [
        "* 아래 셀을 통해서 VGG16의 구조를 확인합니다."
      ]
    },
    {
      "cell_type": "code",
      "metadata": {
        "id": "axkSCRB-pv5W",
        "colab_type": "code",
        "colab": {
          "base_uri": "https://localhost:8080/",
          "height": 827
        },
        "outputId": "7fa5fd74-953e-4de6-cfd9-f8c35ece8293"
      },
      "source": [
        "VGG16"
      ],
      "execution_count": 10,
      "outputs": [
        {
          "output_type": "execute_result",
          "data": {
            "text/plain": [
              "VGG(\n",
              "  (features): Sequential(\n",
              "    (0): Conv2d(3, 64, kernel_size=(3, 3), stride=(1, 1), padding=(1, 1))\n",
              "    (1): ReLU(inplace=True)\n",
              "    (2): Conv2d(64, 64, kernel_size=(3, 3), stride=(1, 1), padding=(1, 1))\n",
              "    (3): ReLU(inplace=True)\n",
              "    (4): MaxPool2d(kernel_size=2, stride=2, padding=0, dilation=1, ceil_mode=False)\n",
              "    (5): Conv2d(64, 128, kernel_size=(3, 3), stride=(1, 1), padding=(1, 1))\n",
              "    (6): ReLU(inplace=True)\n",
              "    (7): Conv2d(128, 128, kernel_size=(3, 3), stride=(1, 1), padding=(1, 1))\n",
              "    (8): ReLU(inplace=True)\n",
              "    (9): MaxPool2d(kernel_size=2, stride=2, padding=0, dilation=1, ceil_mode=False)\n",
              "    (10): Conv2d(128, 256, kernel_size=(3, 3), stride=(1, 1), padding=(1, 1))\n",
              "    (11): ReLU(inplace=True)\n",
              "    (12): Conv2d(256, 256, kernel_size=(3, 3), stride=(1, 1), padding=(1, 1))\n",
              "    (13): ReLU(inplace=True)\n",
              "    (14): Conv2d(256, 256, kernel_size=(3, 3), stride=(1, 1), padding=(1, 1))\n",
              "    (15): ReLU(inplace=True)\n",
              "    (16): MaxPool2d(kernel_size=2, stride=2, padding=0, dilation=1, ceil_mode=False)\n",
              "    (17): Conv2d(256, 512, kernel_size=(3, 3), stride=(1, 1), padding=(1, 1))\n",
              "    (18): ReLU(inplace=True)\n",
              "    (19): Conv2d(512, 512, kernel_size=(3, 3), stride=(1, 1), padding=(1, 1))\n",
              "    (20): ReLU(inplace=True)\n",
              "    (21): Conv2d(512, 512, kernel_size=(3, 3), stride=(1, 1), padding=(1, 1))\n",
              "    (22): ReLU(inplace=True)\n",
              "    (23): MaxPool2d(kernel_size=2, stride=2, padding=0, dilation=1, ceil_mode=False)\n",
              "    (24): Conv2d(512, 512, kernel_size=(3, 3), stride=(1, 1), padding=(1, 1))\n",
              "    (25): ReLU(inplace=True)\n",
              "    (26): Conv2d(512, 512, kernel_size=(3, 3), stride=(1, 1), padding=(1, 1))\n",
              "    (27): ReLU(inplace=True)\n",
              "    (28): Conv2d(512, 512, kernel_size=(3, 3), stride=(1, 1), padding=(1, 1))\n",
              "    (29): ReLU(inplace=True)\n",
              "    (30): MaxPool2d(kernel_size=2, stride=2, padding=0, dilation=1, ceil_mode=False)\n",
              "  )\n",
              "  (avgpool): AdaptiveAvgPool2d(output_size=(7, 7))\n",
              "  (classifier): Sequential(\n",
              "    (0): Linear(in_features=25088, out_features=4096, bias=True)\n",
              "    (1): ReLU(inplace=True)\n",
              "    (2): Dropout(p=0.5, inplace=False)\n",
              "    (3): Linear(in_features=4096, out_features=4096, bias=True)\n",
              "    (4): ReLU(inplace=True)\n",
              "    (5): Dropout(p=0.5, inplace=False)\n",
              "    (6): Linear(in_features=4096, out_features=1000, bias=True)\n",
              "  )\n",
              ")"
            ]
          },
          "metadata": {
            "tags": []
          },
          "execution_count": 10
        }
      ]
    },
    {
      "cell_type": "markdown",
      "metadata": {
        "id": "msmKqBilpkQX",
        "colab_type": "text"
      },
      "source": [
        "## **[문제 2]**  VGG-16 Model 에 대한 설명\n",
        "\n",
        "위 VGG16 모델을 보고, 모델에 대해서 설명하세요 (아래 사항 중심으로). \n",
        "- input과 output의 구성과 관계 \n",
        "- 최종 layer에서 출력하는 output의 의미\n",
        "- output을 통해서 최종 class로 분류하는 방법 설명 [0~999]"
      ]
    },
    {
      "cell_type": "markdown",
      "metadata": {
        "id": "_atmPZdzrjYp",
        "colab_type": "text"
      },
      "source": [
        "**[답 작성]** \n",
        "\n",
        "1. 이미지는 RGB 3가지의 channel 로 이루어져 있으므로 처음 conv 메트릭스에 들어오는 체널은 3이다. 이후 64, 128, 256, 512로 channel을 늘려간다. kernel(filter)는 3x3의 형태로 여기서는 모든 conv 메트릭스가 3x3의 kernel을 가지고 있으며 padding과 stride 를 각각 1로 줌으로써, weight와 height의 size가 변하지 않도록 한다. 단, MaxPool2d 를 설정해줌으로써 늘어나는 channel에 따른 연산량을 줄이기 위해 weight와 height의 size를 1/2로 줄여준다. activation function은 ReLU를 사용했으며 하나의 Conv 메트릭스 작업이 끝날때 마다 theta를 갱신하기 위해ReLU를 사용한다.\n",
        "2. 최종 Layer에서 input size가 25088이고 output은 1000으로 나와있다. 25088이 의미하는건 Conv matrix를 통해 나온 최종 결과물의 vector size가 25088 이고, 1000의 의미는 최종적으로 선별해야할 class의 수가 1000개 라는 의미이다. \n",
        "3. 여기서 1000개의 class를 분류하려면 \n"
      ]
    },
    {
      "cell_type": "markdown",
      "metadata": {
        "id": "Ic8n9MPVpv5Z",
        "colab_type": "text"
      },
      "source": [
        "## **[문제 3]** Pre-trained Model(VGG-16)을 활용한 개 품종 분류기\n",
        "\n",
        "아래 셀에서 다음을 구현하세요:\n",
        "\n",
        "* function name : `VGG16_predict`\n",
        "    * input : `img_path`\n",
        "        * `img_path` : image가 저장되어 있는 경로 string\n",
        "        * 예) `'dogImages/train/001.Affenpinscher/Affenpinscher_00001.jpg'`\n",
        "\n",
        "    * output : `index`\n",
        "        * VGG16 모델을 통해서 분류된 ImageNet class index\n",
        "        * VGG16의 분류 인덱스는 0에서 999 사이 입니다\n",
        "\n",
        "* gpu를 활용하세요.\n",
        "\n",
        "* VGG16 모델의 최종 출력 layer이 `linear` layer이라는 것을 인지해주세요 (logit 출력, 즉 softmax activation이 없는 채로 출력합니다!)\n",
        "\n",
        "* 입력 image를 244x244 크기로 하세요 (transform, Resize)\n",
        "\n",
        "* [중요] 아래 제공하는 `image_loader` 함수가 유용할 것입니다\n",
        "\n",
        "* [힌트] 그 아래 `VGG16` 출력값 확인 과정을 나열하였습니다"
      ]
    },
    {
      "cell_type": "markdown",
      "metadata": {
        "id": "ga6EeWjspv5d",
        "colab_type": "text"
      },
      "source": [
        "### Image loader 함수 제공\n",
        "\n",
        "* img_path에서 img를 어떻게 받는지 살펴보세요. 유용할 수 있습니다"
      ]
    },
    {
      "cell_type": "markdown",
      "metadata": {
        "id": "r1CsohwEpv5v",
        "colab_type": "text"
      },
      "source": [
        "본 문제에서는 VGG-16 모델을 개 인식 모듈의 네트워크로 사용하지만, 다른 Pre-trained 네트워크(예: [Inception-v3](http://pytorch.org/docs/master/torchvision/models.html#inception-v3), [ResNet-50](http://pytorch.org/docs/master/torchvision/models.html#id3) 등)를 자유롭게 사용하여 프로젝트를 진행할 수 있습니다. 만약 다른 Pre-trained 네트워크로 개 인식 모듈을 구현하기로 한 경우 아래 vgg16에 해당하는 설명을 본인이 선택한 모델로 변경하여 설명하시면 됩니다"
      ]
    },
    {
      "cell_type": "code",
      "metadata": {
        "id": "PDtLLG3Hpv5d",
        "colab_type": "code",
        "colab": {}
      },
      "source": [
        "def image_loader(img_path, transform, use_cuda):\n",
        "    image = Image.open(img_path).convert('RGB')\n",
        "    img = transform(image)[:3,:,:].unsqueeze(0)\n",
        "    if use_cuda:\n",
        "        img = img.cuda()\n",
        "    return img"
      ],
      "execution_count": 2,
      "outputs": []
    },
    {
      "cell_type": "markdown",
      "metadata": {
        "id": "Q7ja22-Fpv5f",
        "colab_type": "text"
      },
      "source": [
        "__[사용법]__"
      ]
    },
    {
      "cell_type": "code",
      "metadata": {
        "id": "Sz157xUwpv5f",
        "colab_type": "code",
        "colab": {
          "base_uri": "https://localhost:8080/",
          "height": 449
        },
        "outputId": "4865789e-bf9a-4f2f-84fa-ebe1e8ec4366"
      },
      "source": [
        "imgFile = 'images/dogImages/train/001.Affenpinscher/Affenpinscher_00001.jpg'\n",
        "\n",
        "transform = transforms.Compose([\n",
        "                    transforms.Resize(size=(244, 244)),\n",
        "                    transforms.ToTensor()])\n",
        "\n",
        "img = image_loader(imgFile, transform, use_cuda)\n",
        "img"
      ],
      "execution_count": 12,
      "outputs": [
        {
          "output_type": "execute_result",
          "data": {
            "text/plain": [
              "tensor([[[[0.3216, 0.1490, 0.3098,  ..., 0.1843, 0.1216, 0.2078],\n",
              "          [0.3608, 0.2431, 0.1961,  ..., 0.1020, 0.1137, 0.2353],\n",
              "          [0.3804, 0.3961, 0.2549,  ..., 0.0980, 0.1608, 0.2588],\n",
              "          ...,\n",
              "          [0.9059, 0.8902, 0.8588,  ..., 0.8941, 0.8745, 0.8549],\n",
              "          [0.9294, 0.9059, 0.8667,  ..., 0.8392, 0.8863, 0.8706],\n",
              "          [0.9255, 0.9020, 0.8784,  ..., 0.7569, 0.8431, 0.8275]],\n",
              "\n",
              "         [[0.3647, 0.1961, 0.3608,  ..., 0.2235, 0.1294, 0.1961],\n",
              "          [0.4118, 0.2980, 0.2510,  ..., 0.1451, 0.1294, 0.2314],\n",
              "          [0.4392, 0.4588, 0.3216,  ..., 0.1451, 0.1804, 0.2549],\n",
              "          ...,\n",
              "          [0.7373, 0.7216, 0.7059,  ..., 0.7961, 0.7843, 0.7725],\n",
              "          [0.7569, 0.7373, 0.7137,  ..., 0.7412, 0.8039, 0.7922],\n",
              "          [0.7529, 0.7333, 0.7216,  ..., 0.6627, 0.7569, 0.7490]],\n",
              "\n",
              "         [[0.2039, 0.0824, 0.2196,  ..., 0.1961, 0.0941, 0.1451],\n",
              "          [0.2627, 0.1529, 0.1098,  ..., 0.1137, 0.0863, 0.1725],\n",
              "          [0.3020, 0.3176, 0.1725,  ..., 0.1098, 0.1294, 0.1922],\n",
              "          ...,\n",
              "          [0.7020, 0.6863, 0.6667,  ..., 0.7804, 0.7647, 0.7529],\n",
              "          [0.7216, 0.7020, 0.6745,  ..., 0.7255, 0.7843, 0.7725],\n",
              "          [0.7176, 0.6980, 0.6824,  ..., 0.6471, 0.7373, 0.7294]]]],\n",
              "       device='cuda:0')"
            ]
          },
          "metadata": {
            "tags": []
          },
          "execution_count": 12
        }
      ]
    },
    {
      "cell_type": "markdown",
      "metadata": {
        "id": "VDJ3WkBn0yYX",
        "colab_type": "text"
      },
      "source": [
        "__[유용한 연습코드]__  VGG16(img)의 출력값 확인 과정"
      ]
    },
    {
      "cell_type": "code",
      "metadata": {
        "id": "dZOe4EvYpv5i",
        "colab_type": "code",
        "colab": {}
      },
      "source": [
        "logit = VGG16(img)"
      ],
      "execution_count": 13,
      "outputs": []
    },
    {
      "cell_type": "code",
      "metadata": {
        "id": "p9oGpxUExPmR",
        "colab_type": "code",
        "colab": {
          "base_uri": "https://localhost:8080/",
          "height": 35
        },
        "outputId": "f1a3ca6d-9b26-4d58-cb5f-1c369ebd0bdc"
      },
      "source": [
        "logit.shape"
      ],
      "execution_count": 14,
      "outputs": [
        {
          "output_type": "execute_result",
          "data": {
            "text/plain": [
              "torch.Size([1, 1000])"
            ]
          },
          "metadata": {
            "tags": []
          },
          "execution_count": 14
        }
      ]
    },
    {
      "cell_type": "code",
      "metadata": {
        "id": "FjRjocD3xCkr",
        "colab_type": "code",
        "colab": {
          "base_uri": "https://localhost:8080/",
          "height": 35
        },
        "outputId": "d903df22-1ff9-4249-e308-8332d66a1cf3"
      },
      "source": [
        "torch.max(logit,1)"
      ],
      "execution_count": 15,
      "outputs": [
        {
          "output_type": "execute_result",
          "data": {
            "text/plain": [
              "torch.return_types.max(values=tensor([19.2714], device='cuda:0', grad_fn=<MaxBackward0>), indices=tensor([252], device='cuda:0'))"
            ]
          },
          "metadata": {
            "tags": []
          },
          "execution_count": 15
        }
      ]
    },
    {
      "cell_type": "code",
      "metadata": {
        "id": "zTtREbHZpv5k",
        "colab_type": "code",
        "colab": {
          "base_uri": "https://localhost:8080/",
          "height": 35
        },
        "outputId": "ea2665cf-e6dc-431b-9813-ef447aad6673"
      },
      "source": [
        "torch.max(logit,1)[1]"
      ],
      "execution_count": 16,
      "outputs": [
        {
          "output_type": "execute_result",
          "data": {
            "text/plain": [
              "tensor([252], device='cuda:0')"
            ]
          },
          "metadata": {
            "tags": []
          },
          "execution_count": 16
        }
      ]
    },
    {
      "cell_type": "code",
      "metadata": {
        "id": "sIVC_se2pv5m",
        "colab_type": "code",
        "colab": {
          "base_uri": "https://localhost:8080/",
          "height": 35
        },
        "outputId": "98942b7d-aa95-47df-c209-65e9dc3dcd1c"
      },
      "source": [
        "torch.max(logit,1)[1].item()"
      ],
      "execution_count": 17,
      "outputs": [
        {
          "output_type": "execute_result",
          "data": {
            "text/plain": [
              "252"
            ]
          },
          "metadata": {
            "tags": []
          },
          "execution_count": 17
        }
      ]
    },
    {
      "cell_type": "code",
      "metadata": {
        "id": "4FOgwlH7pv5h",
        "colab_type": "code",
        "colab": {
          "base_uri": "https://localhost:8080/",
          "height": 35
        },
        "outputId": "336968de-09d0-4ead-e651-1548a9cd80cf"
      },
      "source": [
        "index = torch.max(logit, 1)[1].item()\n",
        "index"
      ],
      "execution_count": 18,
      "outputs": [
        {
          "output_type": "execute_result",
          "data": {
            "text/plain": [
              "252"
            ]
          },
          "metadata": {
            "tags": []
          },
          "execution_count": 18
        }
      ]
    },
    {
      "cell_type": "markdown",
      "metadata": {
        "id": "FmMGgddmpv5d",
        "colab_type": "text"
      },
      "source": [
        "VGG16_predict를 완성하세요"
      ]
    },
    {
      "cell_type": "code",
      "metadata": {
        "id": "f70xQnVQpv5Z",
        "colab_type": "code",
        "colab": {}
      },
      "source": [
        "# 문제 3 답 작성\n",
        "def VGG16_predict(img_path):\n",
        "    ### 답 작성 부분 ###\n",
        "    #pre-training model을 불러와 image를 transform에 맞게 열고 결과를 prediction함\n",
        "    logit = VGG16(image_loader(img_path, transform, True))\n",
        "    \n",
        "    # 결과로 나온 dog의 class만 추출하여 return 함\n",
        "    return torch.max(logit,1)[1].item()"
      ],
      "execution_count": 19,
      "outputs": []
    },
    {
      "cell_type": "markdown",
      "metadata": {
        "id": "1WnME4ZLpv5b",
        "colab_type": "text"
      },
      "source": [
        "아래의 코드를 통해 위에서 구현한 함수를 테스트해 보세요.\n",
        "\n",
        "예제 출력\n",
        "```\n",
        "Index: 252\n",
        "```"
      ]
    },
    {
      "cell_type": "code",
      "metadata": {
        "id": "5UwgdXr8pv5b",
        "colab_type": "code",
        "colab": {
          "base_uri": "https://localhost:8080/",
          "height": 35
        },
        "outputId": "995961e3-47fd-4971-ab0e-e860f102dcaa"
      },
      "source": [
        "imgFile = 'images/dogImages/train/001.Affenpinscher/Affenpinscher_00001.jpg'\n",
        "\n",
        "print(\"Index:\", VGG16_predict(imgFile))"
      ],
      "execution_count": 20,
      "outputs": [
        {
          "output_type": "stream",
          "text": [
            "Index: 252\n"
          ],
          "name": "stdout"
        }
      ]
    },
    {
      "cell_type": "markdown",
      "metadata": {
        "id": "Eh5sFO-Hpv5n",
        "colab_type": "text"
      },
      "source": [
        "## **[문제 4]** 개 인식 모듈 제작\n",
        "\n",
        "__Dog detector (개 인식)__<br>\n",
        "위 VGG-16 에서 분류하는 [class](https://gist.github.com/yrevar/942d3a0ac09ec9e5eb3a)를 살펴보면<br>\n",
        "151 - 268번은 `'Chihuahua'`에서 `'Mexican hairless'`까지 개의 종을 분류하는 인덱스라는 것을 알 수 있습니다.<br>\n",
        "이외에 인덱스는 다양한 다른 종을 분류합니다.<br>\n",
        "> 예를 들어서 1번은 '금붕어' 2번은 '백상아리' 등이죠.<br>\n",
        "\n",
        "위 분류는 ImageNet에 분류 기준이어서 Vgg-16 뿐 아니라 Resnet등도 모두 같은 분류 기준을 사용합니다.\n",
        "\n",
        "따라서, dog detector 모듈의 경우<br>\n",
        "VGG16을 통해서 분류(`VGG16_predict(img_path)`)된 우리의 image가 151에서 268번 사이에 들어가는지<br>\n",
        "`True`와 `False`를 알려주는 간단한 모듈을 만들면 됩니다.<br>\n",
        "\n",
        "위의 방법이 말이 되는지 생각해보세요, 다른 방법이 있다면 다른 방법으로 구현해도 좋습니다.\n",
        "\n",
        "* function name : `dog_detector`\n",
        "    * input : `img_path`\n",
        "        * `img_path` : image가 저장되어 있는 경로 string\n",
        "        \n",
        "    * output : `boolean`\n",
        "        * 개가 인식되면 `True`\n",
        "        * 아니면 `False`"
      ]
    },
    {
      "cell_type": "markdown",
      "metadata": {
        "id": "vie6myceIBC1",
        "colab_type": "text"
      },
      "source": [
        "**[답 작성]**"
      ]
    },
    {
      "cell_type": "code",
      "metadata": {
        "id": "baYecCjFpv5n",
        "colab_type": "code",
        "colab": {}
      },
      "source": [
        "# 문제 4 답 작성\n",
        "def dog_detector(img_path):\n",
        "    ### 답 작성 부분 ###\n",
        "    #pre-training model을 불러와 image를 transform에 맞게 열고 결과를 prediction함\n",
        "    logit = VGG16(image_loader(img_path, transform, True))\n",
        "    # 결과로 나온 dog의 class만 추출하여 저장함\n",
        "    breed_class = torch.max(logit,1)[1].item()\n",
        "\n",
        "    #class가 151 ~ 268 사이값이면 강아지이므로 True return\n",
        "    #강아지가 아니면 False return\n",
        "    return True if 151 <= breed_class and breed_class <= 268 else False"
      ],
      "execution_count": 21,
      "outputs": []
    },
    {
      "cell_type": "markdown",
      "metadata": {
        "id": "WFN89GZcpv5p",
        "colab_type": "text"
      },
      "source": [
        "### 개 인식 모듈 평가\n",
        "\n",
        "아래 코드 셀에 위에서 작성한 `dog_detector` 함수의 성능을 확인해보세요.\n",
        "\n",
        "- `human_files_short` image 중에서 (잘못하여) 개를 인식한 경우는 몇% 인가요?\n",
        "- `dog_files_short` image 중에서 개를 인식한 경우는 몇% 인가요?\n",
        "\n",
        "output 예제\n",
        "```\n",
        "human file에 대한 개인식률: 1.0%\n",
        "dog file에 대한 개인식률: 95.0%\n",
        "```"
      ]
    },
    {
      "cell_type": "code",
      "metadata": {
        "id": "MmAQW3Vrpv5p",
        "colab_type": "code",
        "colab": {
          "base_uri": "https://localhost:8080/",
          "height": 53
        },
        "outputId": "b94db11a-3eb9-4034-8646-debbda1758b2"
      },
      "source": [
        "human_dogs = [dog_detector(i) for i in human_files_short]\n",
        "dogs = [dog_detector(j) for j in dog_files_short]\n",
        "\n",
        "human = str(float(sum(human_dogs)) / len(human_files_short) * 100)\n",
        "dog = str(float(sum(dogs)) / len(dog_files_short) * 100)\n",
        "\n",
        "##################################################\n",
        "\n",
        "print(\"human file에 대한 개인식률: {}%\".format(human))\n",
        "print(\"dog file에 대한 개인식률: {}%\".format(dog))"
      ],
      "execution_count": 22,
      "outputs": [
        {
          "output_type": "stream",
          "text": [
            "human file에 대한 개인식률: 0.0%\n",
            "dog file에 대한 개인식률: 93.0%\n"
          ],
          "name": "stdout"
        }
      ]
    },
    {
      "cell_type": "markdown",
      "metadata": {
        "id": "boltXOnCpv5v",
        "colab_type": "text"
      },
      "source": [
        "---\n",
        "<a id='step3'></a>\n",
        "## Step 3: Create a CNN to Classify Dog Breeds (from Scratch)\n",
        "\n",
        "앞의 Step1, 2를 통해 이미지에서 사람과 개를 인식하는 모듈을 구현하였습니다.<br>\n",
        "이번 Step에서는 개의 이미지에서 개의 종을 예측할 수 있는 모듈을 구현할 것입니다.<br>\n",
        "따라서, 개 품종을 분류하는 CNN을 만들고, 이 과정은 네트워크를 처음부터 각자 코드로 작성하여 네트워크를 구성하도록 합니다.<br>\n",
        "최종 테스트 정확도는 10 % 이상을 권장합니다.<br>\n",
        "(해당 프로젝트의 Step 4 에서는 Pre-trianed 네트워크를 이용해 transfer learning을 통하여 정확도를 크게 향상시키는 CNN도 만들 것입니다.)\n",
        "\n",
        "참고로, 개 이미지에서 개에 품종을 예측하는 좋은 성능의 네트워크를 처음부터 끝까지 구성하는 일은 쉽지 않습니다 (코딩이 어려운 것이 아니라, 네트워크를 학습시키기 쉽지 않습니다).<br>\n",
        "심지어 사람조차도 Brittany와 Welsh Springer Spaniel를 구별하는데 어렵기 때문이죠.\n",
        "\n",
        "Brittany | Welsh Springer Spaniel\n",
        "- | - \n",
        "<img src=\"https://drive.google.com/uc?export=view&id=1EFcAIA_vjVdQZQ3C6RaHi0FbrP5VusN7\" width=\"100\"> | <img src=\"https://drive.google.com/uc?export=view&id=1EXu-8pgzBxQoRu42CdZcmOYcZU1k1ysq\" width=\"200\">\n",
        "\n",
        "클래스 간 차이가 별로 없는 아래와 같은 예도 있습니다 (예 : Curly-Coated Retrievers 및 American Water Spaniels).\n",
        "\n",
        "Curly-Coated Retriever | American Water Spaniel\n",
        "- | -\n",
        "<img src=\"https://drive.google.com/uc?export=view&id=15VG_cj-L-HN_ysipi-Q4s_4j5dcqbuyf\" width=\"200\"> | <img src=\"https://drive.google.com/uc?export=view&id=1fcLLK6x2_bZN8_17O9SDYBE80jIA-4Qp\" width=\"200\">\n",
        "\n",
        "\n",
        "어려움에 대한 예로, 모두 labradors 품종인데 yellow, chocolate, 및 black 으로 다양한 털 색이 있는 종도 있습니다. 모두 같은 품종으로 예측해야하는 어려운 문제죠.\n",
        "\n",
        "Yellow Labrador | Chocolate Labrador | Black Labrador\n",
        "- | - | -\n",
        "<img src=\"https://drive.google.com/uc?export=view&id=171DW8SsBtFvjy-TQqyZOpne1y3_6g-lf\" width=\"150\"> | <img src=\"https://drive.google.com/uc?export=view&id=1bBvcQTyeC6umNeX3jpqXes52eqXGFAmm\" width=\"240\"> | <img src=\"https://drive.google.com/uc?export=view&id=18er4UGbiTtuDoHwjNrv8AEqLeJafnkLg\" width=\"220\">\n",
        "\n",
        "\n",
        "\n",
        "## **[문제 5]** Dataset 에 대한 Data Loaders 구성\n",
        "\n",
        "아래의 코드를 사용하여 개 이미지의 training, validation, 및 test data set (각각 `images/dogImages/train`, `images/dogImages/valid`, `images/dogImages/test`에 위치)에 대해 각 [data loaders](http://pytorch.org/docs/stable/data.html#torch.utils.data.DataLoader)를 작성하십시오.<br>\n",
        "수업에서 참고했던 [torchvision datasets](http://pytorch.org/docs/stable/torchvision/datasets.html)를 참고할 수 있습니다.<br>\n",
        "training/validation 성능을 개선하기 위해서 다양한 [transforms](http://pytorch.org/docs/stable/torchvision/transforms.html?highlight=transform)을 활용하실 수 있습니다. <br>\n",
        "\n",
        "__[코드 구성]__\n",
        "- - -\n",
        "* MEANS, DEVIATIONS\n",
        "    * transform에서 정규화에 사용할 평균 및 표준편차 값 설정\n",
        "    * MEANS: RGB 평균 \n",
        "    * DEVIATIONS: RGB 표준편차 \n",
        "- - -\n",
        "* 데이터 위치\n",
        "    * train_path : `images/dogImages/train`\n",
        "    * valid_path : `images/dogImages/valid`\n",
        "    * test_path : `images/dogImages/test`\n",
        "- - -\n",
        "* Transform\n",
        "    * `train_transform` : train 에 사용될 Transform\n",
        "    * `test_transform` : validation, test 에 사용될 Transform\n",
        "- - -\n",
        "* ImageFolder\n",
        "    * `training` : training에 사용될 이미지 폴더의 데이터 셋\n",
        "    * `validation` : validation에 사용될 이미지 폴더의 데이터 셋\n",
        "    * `testing` : testing에 사용될 이미지 폴더의 데이터 셋\n",
        "- - -\n",
        "* DataLoader & DataLoader Dictionary\n",
        "    * `train_batches` : training 데이터 셋의 데이터 로더\n",
        "    * `valid_batches` : validation 데이터 셋의 데이터 로더\n",
        "    * `test_batches` : testing 데이터 셋의 데이터 로더\n",
        "\n"
      ]
    },
    {
      "cell_type": "code",
      "metadata": {
        "id": "dz0dnOTWZTKz",
        "colab_type": "code",
        "colab": {}
      },
      "source": [
        "import numpy as np\n",
        "from glob import glob\n",
        "import random\n",
        "import cv2                \n",
        "import os\n",
        "from pathlib import Path\n",
        "from tqdm import tqdm\n",
        "import torchvision\n",
        "from torchvision import datasets\n",
        "import torch\n",
        "from torch.utils.data.sampler import SubsetRandomSampler\n",
        "import torchvision.models as models\n",
        "import torchvision.transforms as transforms\n",
        "from torch.autograd import Variable\n",
        "import torch.nn as nn\n",
        "import torch.nn.functional as F\n",
        "import torch.optim as optimizer\n",
        "from PIL import ImageFile\n",
        "from PIL import Image\n",
        "import IPython\n",
        "import matplotlib.pyplot as plt\n",
        "%matplotlib inline\n",
        "%config InlineBackend.figure_format = 'retina'"
      ],
      "execution_count": 2,
      "outputs": []
    },
    {
      "cell_type": "markdown",
      "metadata": {
        "id": "ljKO0LUAH9y_",
        "colab_type": "text"
      },
      "source": [
        "**[답 작성]**"
      ]
    },
    {
      "cell_type": "code",
      "metadata": {
        "id": "ftI5DCZVpv5w",
        "colab_type": "code",
        "colab": {}
      },
      "source": [
        "newpath = Path(\"images/dogImages\").expanduser()\n",
        "train_path = str(newpath.joinpath(\"train\"))\n",
        "valid_path = str(newpath.joinpath(\"valid\"))\n",
        "test_path = str(newpath.joinpath(\"test\"))\n",
        "\n",
        "IMAGE_SIZE = 224\n",
        "\n",
        "# 문제 5 답 작성\n",
        "\n",
        "MEANS = [0.485, 0.456, 0.406]\n",
        "DEVIATIONS = [0.229, 0.224, 0.225]\n",
        "\n",
        "# transforms\n",
        "train_transform = transforms.Compose([transforms.RandomRotation(30),\n",
        "                                                 transforms.RandomResizedCrop(IMAGE_SIZE),\n",
        "                                                 transforms.RandomHorizontalFlip(),\n",
        "                                                 transforms.ToTensor(),\n",
        "                                                 transforms.Normalize(mean=MEANS, \n",
        "                                                                      std=DEVIATIONS)\n",
        "                                                # 정규화\n",
        "                                                # RGB 픽셀들 - mean / std 인데, 학습시킬때 중구난방한 featre들을 응집시켜주는 역할을 한다.\n",
        "                                                # 해당 정규화 값은 RGB image 를 normalize 시키는데 널리 사용되는 값이며\n",
        "                                                # pytorch document에 명시되어 있다.\n",
        "                                                 ])\n",
        "test_transform =  transforms.Compose([\n",
        "                                     transforms.ToTensor(),\n",
        "                                     transforms.RandomResizedCrop(IMAGE_SIZE),\n",
        "                                     transforms.RandomHorizontalFlip(),\n",
        "                                     transforms.Normalize(mean=MEANS, std=DEVIATIONS)\n",
        "                                     ])\n",
        "\n",
        "batch_size = 8\n",
        "\n",
        "# Image folder\n",
        "training = datasets.ImageFolder(train_path, transform=train_transform)\n",
        "validation = datasets.ImageFolder(valid_path, transform=train_transform)\n",
        "testing = datasets.ImageFolder(test_path, transform=test_transform)\n",
        "\n",
        "# DataLoader\n",
        "train_batches = torch.utils.data.DataLoader(training, batch_size, shuffle=True)\n",
        "valid_batches = torch.utils.data.DataLoader(validation, batch_size, shuffle=True)\n",
        "test_batches = torch.utils.data.DataLoader(testing, batch_size, shuffle=True)"
      ],
      "execution_count": 11,
      "outputs": []
    },
    {
      "cell_type": "markdown",
      "metadata": {
        "id": "7lp76fM7pv5x",
        "colab_type": "text"
      },
      "source": [
        "## **[문제 6]** 데이터 전처리에 대한 설명\n",
        "\n",
        "위 작성한 코드에 대해서 아래 내용을 설명하세요\n",
        "- data의 구성과 각 dataloader의 역할을 설명하세요\n",
        "  * data는 traininig, validation, testing 을 나눠서 구성이 됩니다. 각 dataloader는 주어진 형식(transform)에 맞춰 load 되면 한번 불러 올 때 마다 batch_size만큼 image를 불러옵니다.\n",
        "- `ImageFolder`는 image data와 class label을 어떻게 불러오나요?\n",
        "  * root에는 dataset의 directory 폴더 경로를 적어준다. transform은 어떤 형태로 data를 가져올지 정규화를 시켜주며 transform object여야 한다. 또한 image가 있는 상위 폴더의 폴더명의 label을 가져와 자동으로 folder에 있는 tttttttttttttttttttttt\n",
        "\n",
        "- 이미지의 size를 어떻게 조정하나요? (무엇을 이용해 크기를 조정하는지?)\n",
        "  * image의 size는 transform 할때 resize option을 이용해서 size를 조정해준다. 여기서는 transforms.RandomResizedCrop 을 사용하였다.\n",
        "- training을 위한 transform을 사용하였다면, 어떻게 /왜 사용하였나요? (normalization, 변형 등을 자세하게!)\n",
        "  * 먼저 크기를 일정하게 맞추기 위해 transforms.RandomResizedCrop(244)로  244x244 크기를 맞춰 주었다.\n",
        "  * dataset을 trainig 시키기 위해 tensor 형태로 만들어 주어야 하므로 ToTensor() 함수를 사용하였고, training 할 때 다양성을 주기위해 RandomRotation(30) 과 RandomHorizontalFlip()을 이용해 회전 및 대칭을 주었다. \n",
        "  * 마지막으로 RGB의 특성을 고려해 너무 퍼져있는 dataset들을 0 vector에 가깝게 normalized 시켜준다. 사진은 각각의 밝기, 선명도 등등이 다르기 때문에 눈으로 봤을때는 비슷해 보이지만 data로 보았을 때는 RGB 값들이 확연히 다를 수 있다. 따라서 비슷한 사진들을 classification 하기 위해서는 최대한 비슷한 환경을 만들어 주어야 하기 때문에 normalized를 통해 image의 RGB를 평균 내주는 역할을 한다. transform.Nomalize()는 (RGBVector - mean)/std 로 nomalize 해준다."
      ]
    },
    {
      "cell_type": "markdown",
      "metadata": {
        "id": "BmDAuF58pv5x",
        "colab_type": "text"
      },
      "source": [
        "**[답 작성]**\n",
        "(더블클릭해서 수정하세요.)"
      ]
    },
    {
      "cell_type": "markdown",
      "metadata": {
        "id": "SNMiGy9Mpv5y",
        "colab_type": "text"
      },
      "source": [
        "## **[문제 7]** 개 품종 분류 CNN 구성\n",
        "\n",
        "개의 품종을 분류하는 CNN을 만드세요.<br>\n",
        "구조는 학생마다 다르게 구성할 수 있는 부분입니다. 최대한 좋은 성능을 갖도록 구성해보세요<br>\n",
        "`BREEDS`는 실제 training 시 나와야 하는 classes의 개수입니다."
      ]
    },
    {
      "cell_type": "code",
      "metadata": {
        "id": "CNLNP9DLpv5y",
        "colab_type": "code",
        "colab": {}
      },
      "source": [
        "# 문제 7 답 작성 : define the CNN architecture\n",
        "\n",
        "BREEDS = len(training.classes)\n",
        "\n",
        "# define the CNN architecture\n",
        "class Net(nn.Module):\n",
        "   # 레이어 정의\n",
        "    def __init__(self):  \n",
        "        super(Net, self).__init__()\n",
        "        # input shape : 224 x 224 x 3\n",
        "        # conv1 filter : 3 x 3, input chanel size : 3\n",
        "        # Conv2d(input chanal size, filter chanel size, filter size, padding)\n",
        "        self.conv1 = nn.Conv2d(3, 64, 3, padding = 1)# 결과 size : 112 x 112 x 64\n",
        "        self.conv2 = nn.Conv2d(64, 128, 3, padding = 1) # 결과 size : 56 x 56 x 128\n",
        "        self.conv3 = nn.Conv2d(128, 256, 3, padding = 1) # 결과 size : 28 x 28 x 256\n",
        "        self.conv4 = nn.Conv2d(256, 512, 3, padding = 1) # 결과 size : 14 x 14 x 256\n",
        "\n",
        "\n",
        "        # conv1 -> pool -> conv2 -> pool -> conv3 -> pool\n",
        "        #pool 때문에 해상도를 절반으로 줄임. \n",
        "        #128 X 128    64 x 64    32 x 32    16 x 16(최종 size)\n",
        "        \n",
        "        self.pool = nn.MaxPool2d(2,2) # 해상도를 절반으로 줄이는 작업. 연산량 줄이기 위함\n",
        "\n",
        "        self.fc1 = nn.Linear(196 * 512, 196 * 32)\n",
        "        self.fc2 = nn.Linear(196 * 32, BREEDS)\n",
        "\n",
        "        self.dropout = nn.Dropout(0.5)\n",
        "\n",
        "    def forward(self, x):\n",
        "        x = self.pool(F.relu(self.conv1(x)))\n",
        "        x = self.pool(F.relu(self.conv2(x)))\n",
        "        x = self.pool(F.relu(self.conv3(x)))\n",
        "        x = self.pool(F.relu(self.conv4(x)))\n",
        "\n",
        "        x = x.view(-1, 196 * 512) #vector를 펴는 작업\n",
        "        x = self.dropout(x)\n",
        "\n",
        "        x = F.relu(self.fc1(x))\n",
        "        x = self.dropout(x)\n",
        "\n",
        "        x = F.log_softmax(self.fc2(x), dim = 1)\n",
        "        return x "
      ],
      "execution_count": 8,
      "outputs": []
    },
    {
      "cell_type": "code",
      "metadata": {
        "id": "auE6rZ5DPqaK",
        "colab_type": "code",
        "colab": {
          "base_uri": "https://localhost:8080/",
          "height": 197
        },
        "outputId": "4630ad2a-0ece-4734-d4bc-76c13dacde40"
      },
      "source": [
        "#  CNN instance 생성\n",
        "model_scratch = Net()\n",
        "print(model_scratch)\n",
        "# GPU 활용\n",
        "if use_cuda:\n",
        "    model_scratch.cuda()"
      ],
      "execution_count": 12,
      "outputs": [
        {
          "output_type": "stream",
          "text": [
            "Net(\n",
            "  (conv1): Conv2d(3, 64, kernel_size=(3, 3), stride=(1, 1), padding=(1, 1))\n",
            "  (conv2): Conv2d(64, 128, kernel_size=(3, 3), stride=(1, 1), padding=(1, 1))\n",
            "  (conv3): Conv2d(128, 256, kernel_size=(3, 3), stride=(1, 1), padding=(1, 1))\n",
            "  (conv4): Conv2d(256, 512, kernel_size=(3, 3), stride=(1, 1), padding=(1, 1))\n",
            "  (pool): MaxPool2d(kernel_size=2, stride=2, padding=0, dilation=1, ceil_mode=False)\n",
            "  (fc1): Linear(in_features=100352, out_features=6272, bias=True)\n",
            "  (fc2): Linear(in_features=6272, out_features=133, bias=True)\n",
            "  (dropout): Dropout(p=0.5, inplace=False)\n",
            ")\n"
          ],
          "name": "stdout"
        }
      ]
    },
    {
      "cell_type": "markdown",
      "metadata": {
        "id": "dkpYKT6rpv52",
        "colab_type": "text"
      },
      "source": [
        "## **[문제 8]** 설계한 CNN 모델 설명\n",
        "\n",
        "위의 코드와 같이 네트워크를 구성한 방법과 이유를 각 단계별로 설명하세요. \n",
        "아래 내용도 포함하여 설명하시고, 이외에 중요하다고 생각하는 모든 설명을 하시면 됩니다.\n",
        "\n",
        "* 차원 분석, 채널 수, 커널 크기, linear layer neuron 수\n",
        " * 차원 분석, linear layer neuron 수\n",
        "    * 초기 input size는 224 x 224 x 3 이다. pooling과 convolution layer를 통해 224 x 224 x 3 &rarr; 112 x 112 x 64  &rarr; 56 x 56 x 128 &rarr; 28 x 28 x 256 &rarr; 14 x 14 x 512 의 형태로 바뀐다. 이후 classification을 위해 BREED_SIZE(113)의 크기로 결과를 바꾸어 주는데, nn.Linear()의 선형 변환 과정을 통해 14 x 14 x 512 &rarr; 14 x 14 x 32 &rarr; BREED_SIZE(113) 으로 변하게 된다. \n",
        " * 채널 수\n",
        "    * Convolution Layer 에서 중요한건 input size 보다 channel의 수가 더 중요하다고 생각한다. CNN은 특정 weight(theta, 여기서는 filter)를 input에 내적해 value를 만들어 낸다. 이렇게 진행해 나가다가 nn.Linear()의 선형 변환을 통해 각 class에 도달하게 한다. 이때 최적의 weight를 찾기위해 backpropagation 과정을 거친다. backpropagation은 위에서 input과 내적하는 weight중에 가장 최적의 weight(prediction을 했을때 가장 성공률이 높은 weight)를 찾아간다는 말이다. 따라서 input의 size보다 channel의 size를 늘리는게 학습에 더 유리하다.(경우의 수가 늘어난다는 말) 하지만 channel의 수를 늘리는 만큼 연산량도 늘어나기 때문에 학습 속도에 영향을 미친다. 따라서 input size를 절반식 Pooling(2x2 메트릭스에서 가장 값이 큰 값을 뽑아내어 size를 절반으로 줄이는 방법. 시각은 밝은 값에 민감하게 반응하므로 가장 큰 값을 뽑아내어 최대한 원본 그림과 비슷하게 보이게 하기 위함)을 통해 input size를 줄이고 연산량을 줄인다. 이러한 이유로 channel수를 2배씩 늘이는 대신 input size를 2배씩 줄여 연산량을 줄인다. \n",
        " * 커널 크기\n",
        "    * 커널 크기는 3 x 3에 stride를 1로 준다. 5 x 5, 7 x 7 등 다양하게 줄 수 있지만, pooiling 연산으로 input size를 절반으로 줄여 주기 때문에 필터링 작업으로 인해 input size를 줄일 필요는 없다. 따라서 padding을 1로 주어 input size를 변하지 않게 해주고, 좀 더 영향력있는 filter를 구현하기 위해 3 x 3의 커널 크기를 주었다. 작은 filter size가 영향력이 있는 filter라는 생각은 영상 처리 관점에서 보았을때 filter의 size가 커지면(filter 값은 충분히 작은 값이라고 가정) 더 넓은 pixel들을 한번에 filtering 해주기 때문에 이미지가 흐릿해 지는 현상을 겪을 수 있다. 따라서 filter를 작게 주면 상대적으로 더 뚜렷한 이미지를 얻을 수 있다. filtering은 수학적인 연산이기 때문에 영상처리와 CNN에서 같은 원리가 적용될 것이라고 생각했다.\n",
        "\n",
        "* activation function과 선정 이유(1)\n",
        "  * 여기서는 ReLU function을 선정했다. ReLU는 음수 data가 무조건 0이 되는 특징을 가지고 있으나 sigmoid와는 다르게 양수의 범위가 상당히 넓기 때문에 backpropagation 과정을 거칠 때 값의 분별이 수월하다. sigmoid는 0 < y < 1 의 범위를 가지기 때문에 여러개의 convolution layer 를 거치며 activation function을 사용해야 하는 위의 모델에서는 만약 일정 값 이상으로 x가 커지면 1에 수렴하는 값을 가지게 된다. 따라서 값의 구분이 어려워 지게 된다. 위 모델에서는 ReLU를 사용하는게 최적 weight를 찾는데 더 유리하다.\n",
        "* 특별히, 최종 layer에서 사용한 activation function이 무엇인지 왜 사용하였는지를 상세 설명 \n",
        "  * 최종 activation function 에는 ReLU를 사용했다. 133개의 class를 구분 해야 하는데 0 < y < 1 의 범위 값 밖에 갖지 못하는 sigmoid를 사용하게 되면 0 ~ 무한대의 범위를 가지는 ReLU에 비해 값을 구분하기 힘들 것이라고 생각했다. sigmoid는 일정 값을 넘어가면 1에 수렴하기 때문이다. 예를들어 3가지 class를 구분한다고 했을 때, 0.7, 0.5, 0.3 이라는 값을 sigmoid functiond에 의해 도출해 냈을때 확률의 합이 1을 넘어가게 된다. 따라서 2가지 class를 구분하는 binary classification에 적합하다고 생각한다.\n",
        "* CNN 모델이 무엇을 입력받고 출력하나요?\n",
        "  * input과 출력의 관계\n",
        "    * \n",
        "  * Output 값의 의미"
      ]
    },
    {
      "cell_type": "markdown",
      "metadata": {
        "id": "2NrSaE7ipv52",
        "colab_type": "text"
      },
      "source": [
        "**[답 작성]** \n",
        "(더블클릭해서 수정하세요.)"
      ]
    },
    {
      "cell_type": "markdown",
      "metadata": {
        "id": "jgQYQC5upv52",
        "colab_type": "text"
      },
      "source": [
        "## **[문제 9]** Cost (Loss) Function 과 Optimizer 선택\n",
        "\n",
        "[loss function](http://pytorch.org/docs/stable/nn.html#loss-functions) 및 [optimizer](http://pytorch.org/docs/stable/optim.html)를 선택하여 코드를 완성하세요. 선택한 cost function을 `criterion_scratch`로 저장하고 optimizer를 아래 `optimizer_scratch`로 저장하세요.\n",
        "\n",
        "Optimizer와 Cost 함수를 선정하는데 중요하다고 생각하는 내용을 모두 작성합니다. \n",
        "아래 내용은 최소한 포함하여 설명합니다.\n",
        "\n",
        "* Optimizer는 무엇을 선정하였는지 설명\n",
        "* Cost (loss) function을 무엇으로 선택하고, 왜 선택하였는지 설명\n",
        "  * Cost function이 본 문제에 왜 사용하였는가?\n",
        "  * 분류 문제에서 사용하는 cost 함수의 의미를 설명하세요"
      ]
    },
    {
      "cell_type": "markdown",
      "metadata": {
        "id": "soZ-JzZaJDdI",
        "colab_type": "text"
      },
      "source": [
        "**[답 작성]**"
      ]
    },
    {
      "cell_type": "code",
      "metadata": {
        "id": "cV3CYU5kpv53",
        "colab_type": "code",
        "colab": {}
      },
      "source": [
        "# 문제 9 답 작성: loss function and optimizer\n",
        "criterion_scratch = nn.NLLLoss()\n",
        "optimizer_scratch = optim.SGD(model.parameters(), lr=0.001)"
      ],
      "execution_count": null,
      "outputs": []
    },
    {
      "cell_type": "markdown",
      "metadata": {
        "id": "fRsCCiIZ70SZ",
        "colab_type": "text"
      },
      "source": [
        "**[답 작성]**\n",
        "(더블클릭해서 수정하세요.)"
      ]
    },
    {
      "cell_type": "markdown",
      "metadata": {
        "id": "HQE0Gm7Cpv54",
        "colab_type": "text"
      },
      "source": [
        "## **[문제 10]** 구성한 모델에 대한 Train and Validate 진행\n",
        "\n",
        "위에서 구성한 모델을 `Train and validate` 하는 모듈을 작성합니다.<br>\n",
        "[최종 training된 parameter들을](http://pytorch.org/docs/master/notes/serialization.html) 파일 경로 `'models/model_scratch.pt'`에 저장하는 코드를 작성합니다.\n",
        "\n",
        "`Train and validate` 전에 train 이라는 함수를 작성하여 `Train and validate`를 진행하세요. 가능하면 training되는 과정을 출력하도록 하세요:\n",
        "\n",
        "예제:\n",
        "```\n",
        "Started Training...\n",
        "Epoch: 1 \tTraining Loss: 3.317162 \tValidation Loss: 4.162958\n",
        "Validation loss decreased (inf --> 4.162958).  Saving model ...\n",
        "Epoch: 2 \tTraining Loss: 2.420140 \tValidation Loss: 4.182362\n",
        "Finished training\n",
        "<All keys matched successfully>\n",
        "\n",
        "```\n",
        "\n",
        "\n",
        "* 코드 전체를 주석으로 설명하세요\n",
        "* function name : train\n",
        "    * input : `n_epochs`, `train_batches`, `valid_batches`, `model`, `optimizer`, `criterion`, `use_cuda`, `save_path`\n",
        "        * `n_epochs` : epochs 의 수 \n",
        "        * `train_batches` : training data loader\n",
        "        * `valid_batches` : validation data loader\n",
        "        * `model` : 구성한 모델\n",
        "        * `optimizer` : 선택한 optimizer\n",
        "        * `criterion` : 선택한 loss function\n",
        "        * `use_cuda` : 쿠다 사용 여부\n",
        "        * `save_path` : 학습된 모델을 저장할 위치\n",
        "        \n",
        "    * output : `model`, `train_losses`, `valid_losses`\n",
        "        * `model`: 학습이 완료된 모델을 반환\n",
        "        * `train_losses`, `valid_losses`: epoch 별 training loss와 validation loss (자료형 list)\n",
        "* 본 과정을 설명하는데 필요하다고 생각하는 추가 `output` 이 있다면, `output` 종류를 더 만드셔도 좋습니다\n",
        "        "
      ]
    },
    {
      "cell_type": "markdown",
      "metadata": {
        "id": "3M-HE_wbJSMs",
        "colab_type": "text"
      },
      "source": [
        "**[답 작성]**"
      ]
    },
    {
      "cell_type": "code",
      "metadata": {
        "id": "BmQwqe17pv54",
        "colab_type": "code",
        "colab": {}
      },
      "source": [
        "ImageFile.LOAD_TRUNCATED_IMAGES = True\n",
        "# 문제 10 답 작성\n",
        "\n",
        "def train(n_epochs, train_loader, valid_loader, model, optimizer, criterion, use_cuda, save_path):\n",
        "    ### 답 작성 부분 ###\n",
        "    return model, train_losses, valid_losses"
      ],
      "execution_count": null,
      "outputs": []
    },
    {
      "cell_type": "code",
      "metadata": {
        "id": "vfbSApc349mo",
        "colab_type": "code",
        "colab": {}
      },
      "source": [
        "# 아래 코드 줄은 자른 이미지에 대해서 동작하도록 설정하는 부분이며, 주어지는 코드로 사용하세요\n",
        "# PIL image가 truncated 된 경우 사용할 수 있도록 설정\n",
        "ImageFile.LOAD_TRUNCATED_IMAGES = True\n",
        "\n",
        "epochs = None\n",
        "model_path = Path(\"models\").expanduser()\n",
        "save_path = model_path.joinpath(\"model_scratch.pt\")\n",
        "\n",
        "# model_scratch 학습하기\n",
        "model_scratch, train_losses, valid_losses = train(epochs, train_batches, valid_batches, model_scratch, optimizer_scratch, criterion_scratch, use_cuda, save_path)\n",
        "\n",
        "# validation이 가장 좋았던 모델 parameter 불러와서 저장하기\n",
        "model_scratch.load_state_dict(torch.load(save_path))"
      ],
      "execution_count": null,
      "outputs": []
    },
    {
      "cell_type": "code",
      "metadata": {
        "id": "MXk_mqac4J-O",
        "colab_type": "code",
        "colab": {}
      },
      "source": [
        "# 성능 분석에 활용하기 위한 결과 plot 하는 방법\n",
        "plt.plot(train_losses, label='Training loss')\n",
        "plt.plot(valid_losses, label='Validation loss')\n",
        "plt.legend(frameon=False)\n",
        "plt.grid(True)"
      ],
      "execution_count": null,
      "outputs": []
    },
    {
      "cell_type": "markdown",
      "metadata": {
        "id": "mmYp5xboJ0qG",
        "colab_type": "text"
      },
      "source": [
        "## **[문제 11]** CNN model training/validation 분석\n",
        "\n",
        "* 위에서 수행한 training + validation 과정을 설명하세요\n",
        "* validation 과정을 분석하고, 학습을 개선시킨 방법을 validation 결과와 함께 분석하세요\n",
        "\n",
        "  * tranining loss와 validation loss 그래프를 통해서 분석\n",
        "  * hyper-parameter, model을 변경하면서 성능 개선한 과정을 최대한 설명하세요\n",
        "  * dropout, regularization, normalizationearly stopping 등 사용한 방법 설명\n",
        "  * overfitting, underfitting 분석"
      ]
    },
    {
      "cell_type": "markdown",
      "metadata": {
        "id": "g9bu9u3LOwQU",
        "colab_type": "text"
      },
      "source": [
        "**[답 작성]**\n",
        "(더블클릭해서 수정하세요.)\n"
      ]
    },
    {
      "cell_type": "markdown",
      "metadata": {
        "id": "e3D1lrtypv56",
        "colab_type": "text"
      },
      "source": [
        "## **[문제 12]** 학습한 모델에 대한 Test 과정\n",
        "\n",
        "위에서 학습한 모델을 이용하여 개 이미지의 test dataset에서의 예측결과를 확인하세요.<br>\n",
        "test loss 와 test accuracy를 계산하고 출력하세요.<br>\n",
        "test accuracy를 확인합니다 (9%이상 목표로 해보세요).<br>\n",
        "\n",
        "`test` 전에 test라는 함수를 작성하여 `test`를 진행하세요.\n",
        "* test 결과가 출력되도록 작성합니다\n",
        "\n",
        "* function name : test\n",
        "    * input : `test_batches`, `model`, `criterion`, `use_cuda`\n",
        "        * `test_batches` : test dataset loader\n",
        "        * `model` : 학습된 모델\n",
        "        * `criterion` : 선택한 loss function\n",
        "        * `use_cuda` : 쿠다 사용 여부\n",
        "        \n",
        "    * output : 없음.\n",
        "\n",
        "\n",
        "Test 모듈 실행 결과 예시\n",
        "```\n",
        "Test Loss: 3.924572\n",
        "\n",
        "\n",
        "Test Accuracy: 11% (98/836)\n",
        "```"
      ]
    },
    {
      "cell_type": "code",
      "metadata": {
        "id": "eUN2IQlKpv56",
        "colab_type": "code",
        "colab": {}
      },
      "source": [
        "# 문제 12 답 작성\n",
        "def test(test_loader, model, criterion, use_cuda):\n",
        "    ### 답 작성 부분 ###"
      ],
      "execution_count": null,
      "outputs": []
    },
    {
      "cell_type": "code",
      "metadata": {
        "id": "upjNmcVybQQk",
        "colab_type": "code",
        "colab": {}
      },
      "source": [
        "# call test function    \n",
        "test(test_batches, model_scratch, criterion_scratch, use_cuda)"
      ],
      "execution_count": null,
      "outputs": []
    },
    {
      "cell_type": "markdown",
      "metadata": {
        "id": "dm9jwwnQpv57",
        "colab_type": "text"
      },
      "source": [
        "---\n",
        "<a id='step4'></a>\n",
        "# Step 4: Transfer learning을 활용한 개 품종 분류 네트워크 구성\n",
        "\n",
        "이제 transfer learning을 사용하여 이미지에서 개 품종을 식별 할 수있는 CNN을 만듭니다.<br>\n",
        "CNN은 test set에서 60 % 이상의 정확도를 권장합니다.\n"
      ]
    },
    {
      "cell_type": "markdown",
      "metadata": {
        "id": "UmyoIUHapv59",
        "colab_type": "text"
      },
      "source": [
        "## **[문제 13]** 개 품종 분류 CNN 구성\n",
        "\n",
        "[transfer learning](https://pytorch.org/docs/0.3.0/torchvision/models.html#torchvision-models)을 사용하여 개 품종을 분류하는 CNN을 만들도록 하겠습니다.<br>\n",
        "미리 학습된 모델을 사용하여 학습 시간을 줄이고 정확도를 높이며, 출력의 분류 layer들을 우리 목적에 맞게 변경하도록 합니다. (Transfer learning 실습 참고하세요).<br>\n",
        "* Pretrained 된 모델을 변수 `model_transfer`로 저장하십시오.<br>\n",
        "* `Torchvision`에서 Imagenet으로 학습된 모델을 위 링크에서 찾아서 다양하게 적용해보시고, 가장 적합하다고 판단되는 것을 선정해서 변경하시면 됩니다.\n",
        "* 모델별로 다르겠지만, classification을 위한 Fully connected layer (FCN) 부분을 우리 분류 목적에 맞게 변경하기 위해서 FCN 부분의 입력 길이를 파악학고, 최종단의 출력을 우리 목적에 맞게 변경하시면 됩니다\n",
        "\n",
        "* 우리 분류 개수는 위 `BREEDS`라는 자료에 저장되어 있습니다\n",
        "* `pretrained=True` 설정을 잊지 마세요"
      ]
    },
    {
      "cell_type": "code",
      "metadata": {
        "id": "_fHxD2yHEvt_",
        "colab_type": "code",
        "colab": {}
      },
      "source": [
        "BREEDS"
      ],
      "execution_count": null,
      "outputs": []
    },
    {
      "cell_type": "markdown",
      "metadata": {
        "id": "qj8baXiVYt9M",
        "colab_type": "text"
      },
      "source": [
        "**[답 작성]**"
      ]
    },
    {
      "cell_type": "code",
      "metadata": {
        "id": "ZRVm6ieupv59",
        "colab_type": "code",
        "colab": {}
      },
      "source": [
        "# 문제 13 답 작성 : Pretrained 모델을 불러오세요.\n",
        "model_transfer = None"
      ],
      "execution_count": null,
      "outputs": []
    },
    {
      "cell_type": "markdown",
      "metadata": {
        "id": "YBR3bBICcMFF",
        "colab_type": "text"
      },
      "source": [
        "불러온 모델의 구조를 확인합니다"
      ]
    },
    {
      "cell_type": "code",
      "metadata": {
        "id": "ANoZyA0-pv5_",
        "colab_type": "code",
        "colab": {}
      },
      "source": [
        "model_transfer"
      ],
      "execution_count": null,
      "outputs": []
    },
    {
      "cell_type": "markdown",
      "metadata": {
        "id": "_lYA_qP2pv6B",
        "colab_type": "text"
      },
      "source": [
        "Transfer learning을 위해서 133개의 class로 분류하는 FCN을 불러온 model_transfer 에 맞게 적용 하세요.\n",
        "\n",
        "* Feature extraction (CNN) 부분은 재학습하지 않습니다 (parameter 동결)\n",
        "* 새로 구성한 FCN 부분을 재 학습 할 수 있도록 gradient 연산을 살려둡니다 "
      ]
    },
    {
      "cell_type": "markdown",
      "metadata": {
        "id": "UCLnXLYEaiz5",
        "colab_type": "text"
      },
      "source": [
        "**[답 작성]**"
      ]
    },
    {
      "cell_type": "code",
      "metadata": {
        "id": "qBAh2mOOpv6B",
        "colab_type": "code",
        "colab": {}
      },
      "source": [
        "## 문제 13 코드 답 작성\n",
        "### 답 작성 부분 ###\n",
        "\n",
        "####\n",
        "device = torch.device(\"cuda:0\" if torch.cuda.is_available() else \"cpu\")\n",
        "model_transfer.to(device)\n",
        "\n",
        "if use_cuda:\n",
        "    model_transfer = model_transfer.cuda()"
      ],
      "execution_count": null,
      "outputs": []
    },
    {
      "cell_type": "markdown",
      "metadata": {
        "id": "GkvHy1Fspv6D",
        "colab_type": "text"
      },
      "source": [
        "## **[문제 14]** 위의 네트워크를 구성한 이유에 대한 설명\n",
        "\n",
        "Transfer learning을 위해서 설정한 네트워크의 구조를 설명하고, 아래 내용을 포함하여 어떻게 변경하고 왜 그렇게 변경하였는지 구체적으로 설명하세요.\n",
        "\n",
        "* 새롭게 학습을 하고자 하는 layer는 무엇이며, 어떻게 구성하였는가?\n",
        "* Pre-train 된 layer들은 어떤 것이며, 어떻게 하여 학습을 안하도록 설정하였는가?"
      ]
    },
    {
      "cell_type": "markdown",
      "metadata": {
        "id": "lu77Wz3Spv6D",
        "colab_type": "text"
      },
      "source": [
        "**[답 작성]**\n",
        "(더블클릭해서 수정하세요.)"
      ]
    },
    {
      "cell_type": "markdown",
      "metadata": {
        "id": "6oVPqCSfpv6E",
        "colab_type": "text"
      },
      "source": [
        "## **[문제 15]** Loss Function 과 Optimizer 선택\n",
        "\n",
        "[loss function](http://pytorch.org/docs/stable/nn.html#loss-functions) 및 [optimizer](http://pytorch.org/docs/stable/optim.html)를 선택하여 코드를 완성하세요. 선택한 loss function을 `criterion_transfer`로 저장하고 optimizer를 아래 `optimizer_transfer`로 저장하세요.\n",
        "\n",
        "Optimizer와 Cost 함수를 선정하는데 중요하다고 생각하는 내용을 모두 작성합니다. \n",
        "아래 내용은 최소한 포함하여 설명합니다.\n",
        "\n",
        "* Optimizer는 무엇을 선정하였는지 설명\n",
        "* Cost (loss) function을 무엇으로 선택하고, 왜 선택하였는지 설명\n",
        "  * Cost function이 본 문제에 왜 사용하였는가?\n",
        "  * 분류 문제에서 사용하는 cost 함수의 의미를 설명하세요"
      ]
    },
    {
      "cell_type": "markdown",
      "metadata": {
        "id": "e6nqugpfasCO",
        "colab_type": "text"
      },
      "source": [
        "**[답 작성]**"
      ]
    },
    {
      "cell_type": "code",
      "metadata": {
        "id": "f5Xl9tzmpv6E",
        "colab_type": "code",
        "colab": {}
      },
      "source": [
        "# 문제 15 답 작성\n",
        "criterion_transfer = None \n",
        "optimizer_transfer = None"
      ],
      "execution_count": null,
      "outputs": []
    },
    {
      "cell_type": "markdown",
      "metadata": {
        "id": "yKoaN_-lSLtc",
        "colab_type": "text"
      },
      "source": [
        "**[답 작성]**"
      ]
    },
    {
      "cell_type": "markdown",
      "metadata": {
        "id": "HXE6Hsp7pv6H",
        "colab_type": "text"
      },
      "source": [
        "## **[문제 16]** 구성한 모델에 대한 Train and Validate 진행\n",
        "\n",
        "위에서 구성한 모델을 `Train and validate` 하세요.<br>\n",
        "[Training을 통해서 학습한 최종 model을](http://pytorch.org/docs/master/notes/serialization.html) 파일 경로 `'models/model_transfer.pt'`에 저장하십시오.\n",
        "\n",
        "- 해당 코드에서 `Train and validate` 은 위에서 구현했던 `train` 함수를 통해 진행하세요.\n",
        "- 최종적으로 가장 성능이 좋았던 저장 모델 `model_trasfer.pt`를 model에 적용하세요"
      ]
    },
    {
      "cell_type": "code",
      "metadata": {
        "scrolled": true,
        "id": "aaUAOL2wpv6H",
        "colab_type": "code",
        "colab": {}
      },
      "source": [
        "epochs = None\n",
        "save_transfer = model_path.joinpath('model_transfer.pt')\n",
        "\n",
        "# 문제 16 답 작성\n",
        "\n",
        "# 모델 training\n",
        "### 답 작성 부분 ###\n",
        "model_transfer, train_losses, valid_losses = None\n",
        "# 저장했던 최적 parameter 적용하기, load(save_transfer)\n",
        "### 답 작성 부분 ###\n"
      ],
      "execution_count": null,
      "outputs": []
    },
    {
      "cell_type": "code",
      "metadata": {
        "id": "GLVt-X_tQF2d",
        "colab_type": "code",
        "colab": {}
      },
      "source": [
        "# 성능 분석에 활용하기 위한 결과 plot 하는 방법\n",
        "plt.plot(train_losses, label='Training loss')\n",
        "plt.plot(valid_losses, label='Validation loss')\n",
        "plt.legend(frameon=False)\n",
        "plt.grid(True)"
      ],
      "execution_count": null,
      "outputs": []
    },
    {
      "cell_type": "markdown",
      "metadata": {
        "id": "xSRZgJFgUbao",
        "colab_type": "text"
      },
      "source": [
        "## **[문제 17]** Transfer learning model training/validation 분석\n",
        "\n",
        "* validation 과정을 분석하고, 학습을 개선시킨 방법을 validation 결과와 함께 분석하세요\n",
        "\n",
        "  * tranining loss와 validation loss 그래프를 통해서 분석 권장\n",
        "  * hyper-parameter, model을 변경하면서 성능 개선한 과정을 최대한 설명하세요\n",
        "  * Transfer model의 성능 개선을 위해서 사용한 방법을 설명"
      ]
    },
    {
      "cell_type": "markdown",
      "metadata": {
        "id": "1uOpO-lSZrvt",
        "colab_type": "text"
      },
      "source": [
        "**[답 작성]**\n",
        "(더블클릭해서 수정하세요.)"
      ]
    },
    {
      "cell_type": "markdown",
      "metadata": {
        "id": "TIJcRYFxpv6J",
        "colab_type": "text"
      },
      "source": [
        "## **[문제 18]** 학습한 모델에 대한 성능 Test\n",
        "\n",
        "위에서 학습한 모델을 이용하여 개 이미지의 test dataset에서의 예측결과를 확인하세요.<br>\n",
        "test loss 와 test accuracy를 계산하고 출력하세요.<br>\n",
        "test accuracy를 확인하세요 (60 % 이상 권장).<br>\n",
        "\n",
        "해당 `test` 는 위에 구현했던 `test` 함수를 통해 진행하세요."
      ]
    },
    {
      "cell_type": "markdown",
      "metadata": {
        "id": "3S5mNNqCbUzo",
        "colab_type": "text"
      },
      "source": [
        "**[답 작성]**"
      ]
    },
    {
      "cell_type": "code",
      "metadata": {
        "id": "juD4VG8fpv6J",
        "colab_type": "code",
        "colab": {}
      },
      "source": [
        "# 문제 18 답 작성\n",
        "### 답 작성 부분 ###"
      ],
      "execution_count": null,
      "outputs": []
    },
    {
      "cell_type": "markdown",
      "metadata": {
        "id": "pifd12hEpv6L",
        "colab_type": "text"
      },
      "source": [
        "## **[문제 19]** 모델을 이용한 개 품종 반환 모듈\n",
        "\n",
        "이미지 경로를 input으로 하는 predict_breed_transfer(model, class_names, img_path) 함수 작성<br>\n",
        "본 함수는 model에서 예측한 개의 품종(`Affenpinscher`, `Afghan hound` 등)을 반환하는 함수를 구현합니다.\n",
        "\n",
        "* function name : `predict_breed_transfer`\n",
        "    * input : `model`, `class_names`, `img_path`\n",
        "        * `model` : 학습된 모델\n",
        "        * `class_names` : 개의 품종에 대한 이름을 저장한 dictionary (제공함)\n",
        "        * `img_path` : image가 저장되어 있는 경로 string\n",
        "    \n",
        "    * output : `String`\n",
        "        * model에서 예측한 개의 품종\n",
        "\n",
        "* 입력 값중 `class_names`는 아래 제공하는 셀 코드를 활용하시면 됩니다\n",
        "* 경로의 image를 불러오기 위에서 제공한 image_loader 를 활용하세요 (직접 하셔도 문제없습니다)\n",
        "  * 본 함수에서 사용할 transformation 구성하여 image_loader에 경로와 함께 입력\n",
        "* cuda 설정 주의해서 구성\n",
        "* model의 출력 값의 max index (가장 높은 확률 인덱스) 활용"
      ]
    },
    {
      "cell_type": "code",
      "metadata": {
        "id": "zXbp_E1Ipv6L",
        "colab_type": "code",
        "colab": {}
      },
      "source": [
        "class_names = [item[4:].replace(\"_\", \" \") for item in train_batches.dataset.classes]"
      ],
      "execution_count": null,
      "outputs": []
    },
    {
      "cell_type": "code",
      "metadata": {
        "id": "j2g5MOOwWRzy",
        "colab_type": "code",
        "colab": {}
      },
      "source": [
        "train_batches.dataset.classes[:10]"
      ],
      "execution_count": null,
      "outputs": []
    },
    {
      "cell_type": "code",
      "metadata": {
        "id": "7JzmhLkLpv6N",
        "colab_type": "code",
        "colab": {}
      },
      "source": [
        "class_names[:10]"
      ],
      "execution_count": null,
      "outputs": []
    },
    {
      "cell_type": "code",
      "metadata": {
        "scrolled": true,
        "id": "-3Kf4gpmpv6O",
        "colab_type": "code",
        "colab": {}
      },
      "source": [
        "# 문제 19: predict_breed_transfer 구현\n",
        "\n",
        "def predict_breed_transfer(model, class_names, img_path):\n",
        "  \n",
        "  ### 답 작성 부분 ###\n",
        "       \n",
        "    return class_names[idx]\n",
        "\n",
        "\n",
        "\n"
      ],
      "execution_count": null,
      "outputs": []
    },
    {
      "cell_type": "markdown",
      "metadata": {
        "id": "61wje3n0pv6Q",
        "colab_type": "text"
      },
      "source": [
        "아래의 코드를 통해 만든 함수를 테스트해 보세요."
      ]
    },
    {
      "cell_type": "code",
      "metadata": {
        "id": "HZWnVA2Xpv6Q",
        "colab_type": "code",
        "colab": {}
      },
      "source": [
        "dirs = os.listdir('myImg')\n",
        "\n",
        "for img_file in dirs:\n",
        "    img_path = os.path.join('myImg', img_file)\n",
        "    predition = predict_breed_transfer(model_transfer, class_names, img_path)\n",
        "    print(\"image_file_name: {0}, \\t predition breed: {1}\".format(img_path, predition))\n",
        "    img = Image.open(img_path).convert('RGB')\n",
        "    plt.imshow(img)\n",
        "    plt.show()"
      ],
      "execution_count": null,
      "outputs": []
    },
    {
      "cell_type": "markdown",
      "metadata": {
        "id": "x4x-XFx2pv6S",
        "colab_type": "text"
      },
      "source": [
        "---\n",
        "<a id='step5'></a>\n",
        "# Step 5: Make Dog Identification App\n",
        "\n",
        "## 실제 app에 이용할 함수 구현\n",
        "\n",
        "이미지에 대한 파일 경로를 통해 이미지에 대해서 먼저 사람, 개가 포함되어 있는지 아닌지를 결정하는 함수를 작성하세요.\n",
        "- 이미지에서 __개__가 감지되면 예측 된 __품종__을 반환하십시오.\n",
        "- 이미지에서 __사람__이 감지되면 __유사한 개 품종__을 반환하십시오.\n",
        "- 이미지에서 __둘 다__ 아니라면 __오류__를 출력하십시오.\n",
        "\n",
        "이미지에서 사람과 개를 감지하기 위한 함수를 작성할 수 있습니다.<br>\n",
        "또한, 위에서 개발한 `face_detector` 및 `dog_detector` 함수를 자유롭게 사용하셔도 됩니다.<br>\n",
        "개 품종을 예측하는 경우에는 Step 4 의 CNN을 사용해야합니다.\n",
        "\n",
        "![Sample Human Output](https://drive.google.com/uc?export=view&id=1K7S1YJ4VflBCVKiioe2SkNkEEihUp-uI)"
      ]
    },
    {
      "cell_type": "code",
      "metadata": {
        "id": "ZgHiIsIopv6S",
        "colab_type": "code",
        "colab": {}
      },
      "source": [
        "def run_app(img_path):\n",
        "    img = Image.open(img_path).convert('RGB')\n",
        "    plt.imshow(img)\n",
        "    plt.show()\n",
        "    if dog_detector(img_path) is True:\n",
        "        prediction = predict_breed_transfer(model_transfer,class_names,img_path)\n",
        "        print(\"Dog detected \\n It looks like a {0}\".format(prediction))  \n",
        "    elif face_detector(img_path) > 0:\n",
        "        prediction = predict_breed_transfer(model_transfer,class_names,img_path)\n",
        "        print(\"Human detected \\n It looks like a {0}\".format(prediction))\n",
        "    else:\n",
        "        print(\"Nothing detected\")\n"
      ],
      "execution_count": null,
      "outputs": []
    },
    {
      "cell_type": "markdown",
      "metadata": {
        "id": "08NAN6k2pv6T",
        "colab_type": "text"
      },
      "source": [
        "---\n",
        "<a id='step6'></a>\n",
        "# Step 6: 완성본 실험\n",
        "\n",
        "이전 단계에서 구현한 app을 이용하여 해당 app을 사용하고 놀아봅니다.<br>\n",
        "여러 이미지를 app을 통해 결과를 확인해보세요.<br>\n",
        "- 여러분의 이미지를 직접 업로드하고 어떤 종류의 개가 닮았다고 출력되나요?<br>\n",
        "- 개의 이미지를 직접 업로드하고 개 품종을 정확하게 예측하나요? \n",
        "- 고양이의 이미지를 직접 업로드하고 고양이를 개라고 예측하나요? 예측한다면 어떻게 예측하나요?\n",
        "- 원하시면 본인 사진으로 테스트해보세요\n",
        "\n",
        "## 구현한 Dog Identification App Test\n",
        "위의 확인해야 하는 이미지의 결과를 확인하고,<br>\n",
        "6개 이상의 다른 이미지를 넣어 결과를 확인하세요.<br>\n",
        "원하는 이미지를 자유롭게 사용하십시오.<br>\n",
        "단, 사람과 강아지의 이미지는 두 개 이상의 이미지를 사용하세요."
      ]
    },
    {
      "cell_type": "code",
      "metadata": {
        "scrolled": true,
        "id": "SPdvb_9jpv6T",
        "colab_type": "code",
        "colab": {}
      },
      "source": [
        "dirs = os.listdir('myImg')\n",
        "\n",
        "for img_file in dirs:\n",
        "    img_path = os.path.join('myImg', img_file)\n",
        "    predition = predict_breed_transfer(model_transfer, class_names, img_path)\n",
        "    print(\"image_file_name: {0}, \\t predition breed: {1}\".format(img_path, predition))\n",
        "    img = Image.open(img_path).convert('RGB')\n",
        "    plt.imshow(img)\n",
        "    plt.show()"
      ],
      "execution_count": null,
      "outputs": []
    },
    {
      "cell_type": "markdown",
      "metadata": {
        "id": "iBy_Jdmnpv6V",
        "colab_type": "text"
      },
      "source": [
        "## **[문제 20]** 프로젝트를 마무리 하면서...\n",
        "\n",
        "위의 프로젝트에 대한 자체 평가와 총평을 적어주세요 [점수가 들어가는 문제는 아닙니다]"
      ]
    },
    {
      "cell_type": "markdown",
      "metadata": {
        "id": "pcxrPw9wpv6V",
        "colab_type": "text"
      },
      "source": [
        "__[답 작성]__"
      ]
    },
    {
      "cell_type": "markdown",
      "metadata": {
        "id": "NNLkcDLtdEVM",
        "colab_type": "text"
      },
      "source": [
        "# 참고자료 목차\n",
        "\n",
        "- [1] [ReLU와 Sigmoid](https://medium.com/@kmkgabia/ml-sigmoid-%EB%8C%80%EC%8B%A0-relu-%EC%83%81%ED%99%A9%EC%97%90-%EB%A7%9E%EB%8A%94-%ED%99%9C%EC%84%B1%ED%99%94-%ED%95%A8%EC%88%98-%EC%82%AC%EC%9A%A9%ED%95%98%EA%B8%B0-c65f620ad6fd)"
      ]
    },
    {
      "cell_type": "markdown",
      "metadata": {
        "id": "vo_8FjEw89JJ",
        "colab_type": "text"
      },
      "source": [
        "# 부록 1: Latex 수식 예제\n",
        "\n",
        "- 글 중간에 수식은 `$` 수식 `$`의 형태로 작성하며, $x^{(i)}_j$, $\\max\\{z, v\\}$, $\\log(1+x)$, $f(x)=\\frac{1}{1+e^{-x}}$ 등과 같이 사용합니다.\n",
        "- 큰 한줄 수식은 \n",
        "```\n",
        "$$\n",
        "\\sigma(x) = \\frac{1}{1+\\exp(-x)}\n",
        "$$\n",
        "```\n",
        "$$\n",
        "\\sigma(x) = \\frac{1}{1+\\exp(-x)}\n",
        "$$\n",
        "와 같이 사용가능하며, 여러 줄의 경우는\n",
        "```\n",
        "\\begin{align}\n",
        "p(y=j|x; \\theta) &=\\textrm{Softmax}(\\theta_j^Tx)\\\\\n",
        "&= \\frac{e^{\\theta_j^T x}}{\\sum_{i=1}^n e^{\\theta_i^T x}} \n",
        "\\end{align}\n",
        "```\n",
        "를 사용하면 아래와 같이 표시합니다.\n",
        "\\begin{align}\n",
        "p(y=j|x; \\theta) &=\\textrm{Softmax}(\\theta_j^Tx)\\\\\n",
        "&= \\frac{e^{\\theta_j^T x}}{\\sum_{i=1}^n e^{\\theta_i^T x}} \n",
        "\\end{align}\n",
        "\n",
        "여기서 `&` 기호에 맞춰서 줄을 맞춰서 표시합니다. 여기 예제에서는 `=` 표시에 줄을 맞춰서 표시하죠. `\\\\` 는 줄바꿔줄때 사용하는 명령입니다\n",
        "\n",
        "* 행렬의 경우는\n",
        "\n",
        "$$\n",
        "A_{m,n} =\n",
        " \\begin{pmatrix}\n",
        "  a_{1,1} & a_{1,2} & \\cdots & a_{1,n} \\\\\n",
        "  a_{2,1} & a_{2,2} & \\cdots & a_{2,n} \\\\\n",
        "  \\vdots  & \\vdots  & \\ddots & \\vdots  \\\\\n",
        "  a_{m,1} & a_{m,2} & \\cdots & a_{m,n}\n",
        " \\end{pmatrix}\n",
        " $$\n",
        "\n",
        "등을 사용할 수 있습니다.\n",
        "\n",
        "[다른 예제](http://tomoyo.ivyro.net/123/wiki.php/TeX_%EB%B0%8F_LaTeX_%EC%88%98%EC%8B%9D_%EB%AC%B8%EB%B2%95)\n"
      ]
    },
    {
      "cell_type": "markdown",
      "metadata": {
        "id": "RYw8Rk_vqObF",
        "colab_type": "text"
      },
      "source": [
        "# 부록 2: Markdown에 이미지 추가하기"
      ]
    },
    {
      "cell_type": "markdown",
      "metadata": {
        "id": "DsppPrOOEG58",
        "colab_type": "text"
      },
      "source": [
        "```markdown\n",
        "![대체 텍스트](이미지 경로)\n",
        "```\n",
        "위의 코드를 이용해 Markdown에 이미지를 추가할 수 있습니다.<br>\n",
        "이미지의 경우 해당 이미지를 파일로 저장하여 이미지 경로를 직접 적어 추가 할 수 \n",
        "있습니다.<br>\n",
        "\n",
        "단, 이미지의 경로는 드라이브에 업로드한 파일의 경로를 적어야합니다.\n",
        "\n",
        "1. [Google Drive](https://drive.google.com/drive) 에 접속하여 폴더를 하나 만든다.\n",
        "2. 만든 폴더에 추가할 이미지를 업로드 한다.\n",
        "3. 업로드 된 이미지를 우클릭하여 공유를 누른다.\n",
        "\n",
        "4. [링크 보기] 에서 한림대학교에서 모든사용자로 바꾼다.\n",
        "5. 링크에서 파일 ID를 가져온다. [ ex) http: ~ /d/**[파일 ID]**/view?usp=sharing ]\n",
        "6. 위의 방법으로 가져온 파일 ID 를 http://drive.google.com/uc?export=view&id=[파일_ID] 에 입력하여 이미지 경로를 만들고 만든 경로를 이미지 경로 입력 부분에 입력한다.\n",
        "\n",
        "- 대체 텍스트의 경우 이미지가 보이지 않으면 출력되는 텍스트이다."
      ]
    },
    {
      "cell_type": "markdown",
      "metadata": {
        "id": "tM0oXfMIlOwe",
        "colab_type": "text"
      },
      "source": [
        "# 부록 3: PDF 파일 & html 파일로 저장 하기\n",
        "\n",
        "1. PDF 파일로 저장하는 방법(colab에서 최종 프로젝트를 진행하는 경우 해당 방법이 더 편합니다.)\n",
        "- 브라우저는 크롬을 이용한다.\n",
        "- colab의 위쪽 메뉴에 `[파일]` 을 클릭 후 `[인쇄]` 클릭\n",
        "- 대상 `[PDF로 저장]`, 페이지 `[전체]`, 레이아웃 `[세로방향]` 선택\n",
        "- 설정 더보기 클릭 후, 용지크기 `[A4]`, 시트당 페이지 수 `[1]`, 여백 `[기본값]`, 배율 `[맞춤설정, 70]`, 옵션 `[모두체크해제]` 선택\n",
        "- `[저장]` 클릭\n",
        "\n",
        "![예시이미지](http://drive.google.com/uc?export=view&id=1VFraRT_wKDu6qydWIWXcsHZ93Lfe0cM3)\n",
        "\n",
        "2. html 파일로 저장하는 방법(로컬 컴퓨터에서 최종 프로젝트를 진행하는 경우 해당 방법이 더 편합니다.)\n",
        "- 사용하는 브라우저는 상관없습니다.\n",
        "- 프로젝트 jupyter notebook을 엽니다.\n",
        "- 해당 페이지의 위쪽 메뉴에 [File]을 클릭\n",
        "- [Download as]라는 메뉴 하위 메뉴에 HTML(.html) 메뉴를 클릭\n",
        "\n",
        "위의 두가지 방법 모두 Markdown의 이미지, 코드의 출력결과를 포함하여 저장되었는지 확인하고 제출해주세요!\n"
      ]
    }
  ]
}